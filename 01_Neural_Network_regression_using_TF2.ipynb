{
  "nbformat": 4,
  "nbformat_minor": 0,
  "metadata": {
    "colab": {
      "name": "01_Neural Network regression using TF2.ipynb",
      "provenance": [],
      "collapsed_sections": [],
      "authorship_tag": "ABX9TyNw+agZrOOJ4IgP9NEU8b9A",
      "include_colab_link": true
    },
    "kernelspec": {
      "display_name": "Python 3",
      "name": "python3"
    },
    "language_info": {
      "name": "python"
    }
  },
  "cells": [
    {
      "cell_type": "markdown",
      "metadata": {
        "id": "view-in-github",
        "colab_type": "text"
      },
      "source": [
        "<a href=\"https://colab.research.google.com/github/smart4ghari/Tensorflow/blob/master/01_Neural_Network_regression_using_TF2.ipynb\" target=\"_parent\"><img src=\"https://colab.research.google.com/assets/colab-badge.svg\" alt=\"Open In Colab\"/></a>"
      ]
    },
    {
      "cell_type": "markdown",
      "metadata": {
        "id": "YYDbB0wouEDX"
      },
      "source": [
        "## Introduction to Neural network regression\n",
        "\n",
        "Simple definition for regression: predicting a numerical value based upon some other combination of numerical value"
      ]
    },
    {
      "cell_type": "code",
      "metadata": {
        "colab": {
          "base_uri": "https://localhost:8080/"
        },
        "id": "v02RxOObuS32",
        "outputId": "44245d9d-bf4d-44ab-a255-a2e472a19b08"
      },
      "source": [
        "# import tensorflow\n",
        "import tensorflow as tf\n",
        "print(tf.__version__)"
      ],
      "execution_count": null,
      "outputs": [
        {
          "output_type": "stream",
          "text": [
            "2.6.0\n"
          ],
          "name": "stdout"
        }
      ]
    },
    {
      "cell_type": "markdown",
      "metadata": {
        "id": "ElfHNUd2u13d"
      },
      "source": [
        "## Creating a data to view and fit"
      ]
    },
    {
      "cell_type": "code",
      "metadata": {
        "colab": {
          "base_uri": "https://localhost:8080/",
          "height": 286
        },
        "id": "00JxlnxjvD73",
        "outputId": "6a3a1fbf-106a-4774-8a6e-c8ee4e878a02"
      },
      "source": [
        "import numpy as np\n",
        "import matplotlib.pyplot as plt\n",
        "\n",
        "# Create features\n",
        "X = np.array([-7.0,-4.0,-1.0,2.0,5.0,8.0,11.0,14.0])\n",
        "\n",
        "# Create labels\n",
        "y = np.array([3.0,6.0,9.0,12.0,15.0,18.0,21.0,24.0])\n",
        "\n",
        "# Visuaize \n",
        "plt.scatter(X,y)"
      ],
      "execution_count": null,
      "outputs": [
        {
          "output_type": "execute_result",
          "data": {
            "text/plain": [
              "<matplotlib.collections.PathCollection at 0x7f9d5a3fc290>"
            ]
          },
          "metadata": {},
          "execution_count": 2
        },
        {
          "output_type": "display_data",
          "data": {
            "image/png": "[encoded data removed]",
            "text/plain": [
              "<Figure size 432x288 with 1 Axes>"
            ]
          },
          "metadata": {
            "needs_background": "light"
          }
        }
      ]
    },
    {
      "cell_type": "code",
      "metadata": {
        "colab": {
          "base_uri": "https://localhost:8080/"
        },
        "id": "hyTJ2F5TyLA5",
        "outputId": "ad4a851f-b728-41c2-b865-4b3b8cf18aa1"
      },
      "source": [
        "y == X + 10"
      ],
      "execution_count": null,
      "outputs": [
        {
          "output_type": "execute_result",
          "data": {
            "text/plain": [
              "array([ True,  True,  True,  True,  True,  True,  True,  True])"
            ]
          },
          "metadata": {},
          "execution_count": 3
        }
      ]
    },
    {
      "cell_type": "markdown",
      "metadata": {
        "id": "xzkPFBLmykiv"
      },
      "source": [
        "## Input and output shapes"
      ]
    },
    {
      "cell_type": "code",
      "metadata": {
        "colab": {
          "base_uri": "https://localhost:8080/"
        },
        "id": "E-Tb6B-fzcNq",
        "outputId": "a7b3c0c5-bc75-4ae0-c16d-1b6e3e8ca2f4"
      },
      "source": [
        "# Create a demo tensor for the Housing price prediction problems\n",
        "house_info = tf.constant(['bedroom','bathroom','garage'])\n",
        "house_price = tf.constant([939700])\n",
        "house_info,house_price"
      ],
      "execution_count": null,
      "outputs": [
        {
          "output_type": "execute_result",
          "data": {
            "text/plain": [
              "(<tf.Tensor: shape=(3,), dtype=string, numpy=array([b'bedroom', b'bathroom', b'garage'], dtype=object)>,\n",
              " <tf.Tensor: shape=(1,), dtype=int32, numpy=array([939700], dtype=int32)>)"
            ]
          },
          "metadata": {},
          "execution_count": 4
        }
      ]
    },
    {
      "cell_type": "code",
      "metadata": {
        "colab": {
          "base_uri": "https://localhost:8080/"
        },
        "id": "fgM413Ut1RV8",
        "outputId": "8b938133-10b4-4a84-b3d6-d5697335da99"
      },
      "source": [
        "# We need to train the model using X for y\n",
        "# So we're using shape function here\n",
        "input_shape = X.shape\n",
        "output_shape = y.shape\n",
        "input_shape,output_shape"
      ],
      "execution_count": null,
      "outputs": [
        {
          "output_type": "execute_result",
          "data": {
            "text/plain": [
              "((8,), (8,))"
            ]
          },
          "metadata": {},
          "execution_count": 5
        }
      ]
    },
    {
      "cell_type": "markdown",
      "metadata": {
        "id": "Qxv29ocJ2SEF"
      },
      "source": [
        "Oh wait here we're getting only the number of elements present in our dataset but our main motto is to train the model how can we do that thing?😦"
      ]
    },
    {
      "cell_type": "code",
      "metadata": {
        "colab": {
          "base_uri": "https://localhost:8080/"
        },
        "id": "-u-VMSg52uxU",
        "outputId": "60662590-26b5-413c-f006-9863fda2c051"
      },
      "source": [
        "# Turn our Numpy arrays into tensors\n",
        "X = tf.constant(X)\n",
        "y = tf.constant(y)\n",
        "X,y"
      ],
      "execution_count": null,
      "outputs": [
        {
          "output_type": "execute_result",
          "data": {
            "text/plain": [
              "(<tf.Tensor: shape=(8,), dtype=float64, numpy=array([-7., -4., -1.,  2.,  5.,  8., 11., 14.])>,\n",
              " <tf.Tensor: shape=(8,), dtype=float64, numpy=array([ 3.,  6.,  9., 12., 15., 18., 21., 24.])>)"
            ]
          },
          "metadata": {},
          "execution_count": 6
        }
      ]
    },
    {
      "cell_type": "code",
      "metadata": {
        "colab": {
          "base_uri": "https://localhost:8080/"
        },
        "id": "2gf8D4qD3deA",
        "outputId": "eaf2c04c-c886-4010-c887-fade0a9b4da6"
      },
      "source": [
        "# Check the shape of first element in tensor\n",
        "input_shape = X[0].shape\n",
        "output_shape = y[0].shape\n",
        "input_shape,output_shape"
      ],
      "execution_count": null,
      "outputs": [
        {
          "output_type": "execute_result",
          "data": {
            "text/plain": [
              "(TensorShape([]), TensorShape([]))"
            ]
          },
          "metadata": {},
          "execution_count": 7
        }
      ]
    },
    {
      "cell_type": "markdown",
      "metadata": {
        "id": "mpFF8K-J3nyU"
      },
      "source": [
        " Here the shape of the tensor is empty because it is scalar in dimension\n"
      ]
    },
    {
      "cell_type": "markdown",
      "metadata": {
        "id": "KqnI-K1T3v_A"
      },
      "source": [
        "## Steps in modelling with tensorflow\n",
        "1. ***Creating a model*** - define the input and output layers, as well as the hidden layers of the deep learning model\n",
        "2. ***Compiling a model*** - define the loss function(Tells how our model is wrong) and the optimizer(improves the patterns in learning) and evaluation metrics(performance of the model)\n",
        "3. **Fitting the model** - letting the model try to find the patterns between X & y (features and labels)"
      ]
    },
    {
      "cell_type": "code",
      "metadata": {
        "colab": {
          "base_uri": "https://localhost:8080/"
        },
        "id": "FbIEx8KJ4rXs",
        "outputId": "b49fec89-387c-4801-a8f6-3a3baaa061ab"
      },
      "source": [
        "# Set random seed \n",
        "tf.random.set_seed(42)\n",
        "\n",
        "# 1. Create the model using Sequential API\n",
        "model = tf.keras.Sequential([\n",
        "  tf.keras.layers.Dense(1)\n",
        "])\n",
        "\n",
        "# 2. Compile the model\n",
        "model.compile(loss = tf.keras.losses.mae, # mae is the shorform Mean absolute error\n",
        "              optimizer = tf.keras.optimizers.SGD(), # Stochastic Gradient Descent)\n",
        "              metrics = [\"mae\"])\n",
        "\n",
        "# 3. Fit the model\n",
        "model.fit(X,y,epochs = 5)"
      ],
      "execution_count": null,
      "outputs": [
        {
          "output_type": "stream",
          "text": [
            "Epoch 1/5\n",
            "1/1 [==============================] - 1s 633ms/step - loss: 11.5048 - mae: 11.5048\n",
            "Epoch 2/5\n",
            "1/1 [==============================] - 0s 10ms/step - loss: 11.3723 - mae: 11.3723\n",
            "Epoch 3/5\n",
            "1/1 [==============================] - 0s 5ms/step - loss: 11.2398 - mae: 11.2398\n",
            "Epoch 4/5\n",
            "1/1 [==============================] - 0s 4ms/step - loss: 11.1073 - mae: 11.1073\n",
            "Epoch 5/5\n",
            "1/1 [==============================] - 0s 7ms/step - loss: 10.9748 - mae: 10.9748\n"
          ],
          "name": "stdout"
        },
        {
          "output_type": "execute_result",
          "data": {
            "text/plain": [
              "<keras.callbacks.History at 0x7f9d55d31fd0>"
            ]
          },
          "metadata": {},
          "execution_count": 8
        }
      ]
    },
    {
      "cell_type": "code",
      "metadata": {
        "colab": {
          "base_uri": "https://localhost:8080/"
        },
        "id": "tFggmI_b6fOK",
        "outputId": "4af418b9-f6cf-475e-a871-516f46cb365e"
      },
      "source": [
        "# Making a prediction using our model Just for fun\n",
        "model.predict([17.0])"
      ],
      "execution_count": null,
      "outputs": [
        {
          "output_type": "execute_result",
          "data": {
            "text/plain": [
              "array([[12.716021]], dtype=float32)"
            ]
          },
          "metadata": {},
          "execution_count": 9
        }
      ]
    },
    {
      "cell_type": "markdown",
      "metadata": {
        "id": "6pKEmbz1-PeL"
      },
      "source": [
        "## Improving our model\n",
        "\n",
        "we can improve our model by improving the steps that we've created so far\n",
        "\n",
        "1. ***Creating a model*** - Here we might add more layers, increase the number of hidden layers, change the activation function of each layer\n",
        "2. ***Compiling a model*** - Here we might change the optimization function or perhaps the learning rate of the optimization function\n",
        "3. ***Fitting a model*** - Increase the number of epochs"
      ]
    },
    {
      "cell_type": "code",
      "metadata": {
        "colab": {
          "base_uri": "https://localhost:8080/"
        },
        "id": "dDwfr6iSrMTs",
        "outputId": "fe83ec27-9b6a-4da0-8fc0-8098def72fea"
      },
      "source": [
        "# Rebuilding our model\n",
        "\n",
        "# 1. Create a model\n",
        "\n",
        "model = tf.keras.Sequential([\n",
        "  tf.keras.layers.Dense(100,activation='relu'),\n",
        "  tf.keras.layers.Dense(1)\n",
        "])\n",
        "\n",
        "# 2. Compile a model\n",
        "\n",
        "model.compile(\n",
        "               loss = tf.keras.losses.mae,\n",
        "               optimizer = tf.keras.optimizers.SGD(),\n",
        "               metrics = [\"mae\"]\n",
        ")\n",
        "\n",
        "# 3. Fit a model\n",
        "\n",
        "model.fit(X,y,epochs = 100)"
      ],
      "execution_count": null,
      "outputs": [
        {
          "output_type": "stream",
          "text": [
            "Epoch 1/100\n",
            "1/1 [==============================] - 0s 341ms/step - loss: 13.9468 - mae: 13.9468\n",
            "Epoch 2/100\n",
            "1/1 [==============================] - 0s 5ms/step - loss: 13.2859 - mae: 13.2859\n",
            "Epoch 3/100\n",
            "1/1 [==============================] - 0s 11ms/step - loss: 12.6279 - mae: 12.6279\n",
            "Epoch 4/100\n",
            "1/1 [==============================] - 0s 4ms/step - loss: 11.9702 - mae: 11.9702\n",
            "Epoch 5/100\n",
            "1/1 [==============================] - 0s 4ms/step - loss: 11.3044 - mae: 11.3044\n",
            "Epoch 6/100\n",
            "1/1 [==============================] - 0s 15ms/step - loss: 10.6244 - mae: 10.6244\n",
            "Epoch 7/100\n",
            "1/1 [==============================] - 0s 5ms/step - loss: 9.9248 - mae: 9.9248\n",
            "Epoch 8/100\n",
            "1/1 [==============================] - 0s 5ms/step - loss: 9.1949 - mae: 9.1949\n",
            "Epoch 9/100\n",
            "1/1 [==============================] - 0s 4ms/step - loss: 8.4303 - mae: 8.4303\n",
            "Epoch 10/100\n",
            "1/1 [==============================] - 0s 5ms/step - loss: 7.6245 - mae: 7.6245\n",
            "Epoch 11/100\n",
            "1/1 [==============================] - 0s 4ms/step - loss: 6.7723 - mae: 6.7723\n",
            "Epoch 12/100\n",
            "1/1 [==============================] - 0s 6ms/step - loss: 5.8960 - mae: 5.8960\n",
            "Epoch 13/100\n",
            "1/1 [==============================] - 0s 3ms/step - loss: 4.9754 - mae: 4.9754\n",
            "Epoch 14/100\n",
            "1/1 [==============================] - 0s 8ms/step - loss: 4.1323 - mae: 4.1323\n",
            "Epoch 15/100\n",
            "1/1 [==============================] - 0s 4ms/step - loss: 4.0312 - mae: 4.0312\n",
            "Epoch 16/100\n",
            "1/1 [==============================] - 0s 3ms/step - loss: 3.9276 - mae: 3.9276\n",
            "Epoch 17/100\n",
            "1/1 [==============================] - 0s 8ms/step - loss: 3.9605 - mae: 3.9605\n",
            "Epoch 18/100\n",
            "1/1 [==============================] - 0s 3ms/step - loss: 3.9073 - mae: 3.9073\n",
            "Epoch 19/100\n",
            "1/1 [==============================] - 0s 3ms/step - loss: 3.9714 - mae: 3.9714\n",
            "Epoch 20/100\n",
            "1/1 [==============================] - 0s 8ms/step - loss: 3.8999 - mae: 3.8999\n",
            "Epoch 21/100\n",
            "1/1 [==============================] - 0s 4ms/step - loss: 3.9595 - mae: 3.9595\n",
            "Epoch 22/100\n",
            "1/1 [==============================] - 0s 3ms/step - loss: 3.9079 - mae: 3.9079\n",
            "Epoch 23/100\n",
            "1/1 [==============================] - 0s 8ms/step - loss: 3.9333 - mae: 3.9333\n",
            "Epoch 24/100\n",
            "1/1 [==============================] - 0s 4ms/step - loss: 3.9160 - mae: 3.9160\n",
            "Epoch 25/100\n",
            "1/1 [==============================] - 0s 4ms/step - loss: 3.9096 - mae: 3.9096\n",
            "Epoch 26/100\n",
            "1/1 [==============================] - 0s 8ms/step - loss: 3.9309 - mae: 3.9309\n",
            "Epoch 27/100\n",
            "1/1 [==============================] - 0s 4ms/step - loss: 3.8864 - mae: 3.8864\n",
            "Epoch 28/100\n",
            "1/1 [==============================] - 0s 4ms/step - loss: 3.9391 - mae: 3.9391\n",
            "Epoch 29/100\n",
            "1/1 [==============================] - 0s 9ms/step - loss: 3.8681 - mae: 3.8681\n",
            "Epoch 30/100\n",
            "1/1 [==============================] - 0s 4ms/step - loss: 3.9381 - mae: 3.9381\n",
            "Epoch 31/100\n",
            "1/1 [==============================] - 0s 4ms/step - loss: 3.8763 - mae: 3.8763\n",
            "Epoch 32/100\n",
            "1/1 [==============================] - 0s 7ms/step - loss: 3.9117 - mae: 3.9117\n",
            "Epoch 33/100\n",
            "1/1 [==============================] - 0s 16ms/step - loss: 3.8854 - mae: 3.8854\n",
            "Epoch 34/100\n",
            "1/1 [==============================] - 0s 5ms/step - loss: 3.8910 - mae: 3.8910\n",
            "Epoch 35/100\n",
            "1/1 [==============================] - 0s 6ms/step - loss: 3.8996 - mae: 3.8996\n",
            "Epoch 36/100\n",
            "1/1 [==============================] - 0s 5ms/step - loss: 3.8641 - mae: 3.8641\n",
            "Epoch 37/100\n",
            "1/1 [==============================] - 0s 7ms/step - loss: 3.9080 - mae: 3.9080\n",
            "Epoch 38/100\n",
            "1/1 [==============================] - 0s 5ms/step - loss: 3.8374 - mae: 3.8374\n",
            "Epoch 39/100\n",
            "1/1 [==============================] - 0s 6ms/step - loss: 3.9154 - mae: 3.9154\n",
            "Epoch 40/100\n",
            "1/1 [==============================] - 0s 9ms/step - loss: 3.8459 - mae: 3.8459\n",
            "Epoch 41/100\n",
            "1/1 [==============================] - 0s 4ms/step - loss: 3.8888 - mae: 3.8888\n",
            "Epoch 42/100\n",
            "1/1 [==============================] - 0s 5ms/step - loss: 3.8594 - mae: 3.8594\n",
            "Epoch 43/100\n",
            "1/1 [==============================] - 0s 4ms/step - loss: 3.8678 - mae: 3.8678\n",
            "Epoch 44/100\n",
            "1/1 [==============================] - 0s 6ms/step - loss: 3.8695 - mae: 3.8695\n",
            "Epoch 45/100\n",
            "1/1 [==============================] - 0s 6ms/step - loss: 3.8407 - mae: 3.8407\n",
            "Epoch 46/100\n",
            "1/1 [==============================] - 0s 5ms/step - loss: 3.8782 - mae: 3.8782\n",
            "Epoch 47/100\n",
            "1/1 [==============================] - 0s 6ms/step - loss: 3.8134 - mae: 3.8134\n",
            "Epoch 48/100\n",
            "1/1 [==============================] - 0s 5ms/step - loss: 3.8870 - mae: 3.8870\n",
            "Epoch 49/100\n",
            "1/1 [==============================] - 0s 6ms/step - loss: 3.8165 - mae: 3.8165\n",
            "Epoch 50/100\n",
            "1/1 [==============================] - 0s 6ms/step - loss: 3.8678 - mae: 3.8678\n",
            "Epoch 51/100\n",
            "1/1 [==============================] - 0s 5ms/step - loss: 3.8318 - mae: 3.8318\n",
            "Epoch 52/100\n",
            "1/1 [==============================] - 0s 6ms/step - loss: 3.8433 - mae: 3.8433\n",
            "Epoch 53/100\n",
            "1/1 [==============================] - 0s 5ms/step - loss: 3.8405 - mae: 3.8405\n",
            "Epoch 54/100\n",
            "1/1 [==============================] - 0s 6ms/step - loss: 3.8159 - mae: 3.8159\n",
            "Epoch 55/100\n",
            "1/1 [==============================] - 0s 6ms/step - loss: 3.8494 - mae: 3.8494\n",
            "Epoch 56/100\n",
            "1/1 [==============================] - 0s 6ms/step - loss: 3.7884 - mae: 3.7884\n",
            "Epoch 57/100\n",
            "1/1 [==============================] - 0s 4ms/step - loss: 3.8585 - mae: 3.8585\n",
            "Epoch 58/100\n",
            "1/1 [==============================] - 0s 5ms/step - loss: 3.7889 - mae: 3.7889\n",
            "Epoch 59/100\n",
            "1/1 [==============================] - 0s 9ms/step - loss: 3.8451 - mae: 3.8451\n",
            "Epoch 60/100\n",
            "1/1 [==============================] - 0s 8ms/step - loss: 3.8037 - mae: 3.8037\n",
            "Epoch 61/100\n",
            "1/1 [==============================] - 0s 5ms/step - loss: 3.8175 - mae: 3.8175\n",
            "Epoch 62/100\n",
            "1/1 [==============================] - 0s 7ms/step - loss: 3.8126 - mae: 3.8126\n",
            "Epoch 63/100\n",
            "1/1 [==============================] - 0s 8ms/step - loss: 3.7899 - mae: 3.7899\n",
            "Epoch 64/100\n",
            "1/1 [==============================] - 0s 8ms/step - loss: 3.8218 - mae: 3.8218\n",
            "Epoch 65/100\n",
            "1/1 [==============================] - 0s 9ms/step - loss: 3.7622 - mae: 3.7622\n",
            "Epoch 66/100\n",
            "1/1 [==============================] - 0s 9ms/step - loss: 3.8311 - mae: 3.8311\n",
            "Epoch 67/100\n",
            "1/1 [==============================] - 0s 7ms/step - loss: 3.7651 - mae: 3.7651\n",
            "Epoch 68/100\n",
            "1/1 [==============================] - 0s 12ms/step - loss: 3.8185 - mae: 3.8185\n",
            "Epoch 69/100\n",
            "1/1 [==============================] - 0s 27ms/step - loss: 3.7766 - mae: 3.7766\n",
            "Epoch 70/100\n",
            "1/1 [==============================] - 0s 13ms/step - loss: 3.7906 - mae: 3.7906\n",
            "Epoch 71/100\n",
            "1/1 [==============================] - 0s 7ms/step - loss: 3.7858 - mae: 3.7858\n",
            "Epoch 72/100\n",
            "1/1 [==============================] - 0s 10ms/step - loss: 3.7627 - mae: 3.7627\n",
            "Epoch 73/100\n",
            "1/1 [==============================] - 0s 9ms/step - loss: 3.7952 - mae: 3.7952\n",
            "Epoch 74/100\n",
            "1/1 [==============================] - 0s 10ms/step - loss: 3.7347 - mae: 3.7347\n",
            "Epoch 75/100\n",
            "1/1 [==============================] - 0s 8ms/step - loss: 3.8055 - mae: 3.8055\n",
            "Epoch 76/100\n",
            "1/1 [==============================] - 0s 10ms/step - loss: 3.7414 - mae: 3.7414\n",
            "Epoch 77/100\n",
            "1/1 [==============================] - 0s 11ms/step - loss: 3.7906 - mae: 3.7906\n",
            "Epoch 78/100\n",
            "1/1 [==============================] - 0s 11ms/step - loss: 3.7506 - mae: 3.7506\n",
            "Epoch 79/100\n",
            "1/1 [==============================] - 0s 10ms/step - loss: 3.7624 - mae: 3.7624\n",
            "Epoch 80/100\n",
            "1/1 [==============================] - 0s 18ms/step - loss: 3.7599 - mae: 3.7599\n",
            "Epoch 81/100\n",
            "1/1 [==============================] - 0s 12ms/step - loss: 3.7342 - mae: 3.7342\n",
            "Epoch 82/100\n",
            "1/1 [==============================] - 0s 15ms/step - loss: 3.7696 - mae: 3.7696\n",
            "Epoch 83/100\n",
            "1/1 [==============================] - 0s 24ms/step - loss: 3.7059 - mae: 3.7059\n",
            "Epoch 84/100\n",
            "1/1 [==============================] - 0s 18ms/step - loss: 3.7833 - mae: 3.7833\n",
            "Epoch 85/100\n",
            "1/1 [==============================] - 0s 17ms/step - loss: 3.7162 - mae: 3.7162\n",
            "Epoch 86/100\n",
            "1/1 [==============================] - 0s 17ms/step - loss: 3.7614 - mae: 3.7614\n",
            "Epoch 87/100\n",
            "1/1 [==============================] - 0s 22ms/step - loss: 3.7255 - mae: 3.7255\n",
            "Epoch 88/100\n",
            "1/1 [==============================] - 0s 9ms/step - loss: 3.7328 - mae: 3.7328\n",
            "Epoch 89/100\n",
            "1/1 [==============================] - 0s 11ms/step - loss: 3.7351 - mae: 3.7351\n",
            "Epoch 90/100\n",
            "1/1 [==============================] - 0s 10ms/step - loss: 3.7044 - mae: 3.7044\n",
            "Epoch 91/100\n",
            "1/1 [==============================] - 0s 12ms/step - loss: 3.7449 - mae: 3.7449\n",
            "Epoch 92/100\n",
            "1/1 [==============================] - 0s 10ms/step - loss: 3.6776 - mae: 3.6776\n",
            "Epoch 93/100\n",
            "1/1 [==============================] - 0s 6ms/step - loss: 3.7594 - mae: 3.7594\n",
            "Epoch 94/100\n",
            "1/1 [==============================] - 0s 7ms/step - loss: 3.6919 - mae: 3.6919\n",
            "Epoch 95/100\n",
            "1/1 [==============================] - 0s 9ms/step - loss: 3.7307 - mae: 3.7307\n",
            "Epoch 96/100\n",
            "1/1 [==============================] - 0s 7ms/step - loss: 3.7015 - mae: 3.7015\n",
            "Epoch 97/100\n",
            "1/1 [==============================] - 0s 11ms/step - loss: 3.7019 - mae: 3.7019\n",
            "Epoch 98/100\n",
            "1/1 [==============================] - 0s 13ms/step - loss: 3.7114 - mae: 3.7114\n",
            "Epoch 99/100\n",
            "1/1 [==============================] - 0s 15ms/step - loss: 3.6731 - mae: 3.6731\n",
            "Epoch 100/100\n",
            "1/1 [==============================] - 0s 6ms/step - loss: 3.7214 - mae: 3.7214\n"
          ],
          "name": "stdout"
        },
        {
          "output_type": "execute_result",
          "data": {
            "text/plain": [
              "<keras.callbacks.History at 0x7f9d55c55350>"
            ]
          },
          "metadata": {},
          "execution_count": 10
        }
      ]
    },
    {
      "cell_type": "code",
      "metadata": {
        "colab": {
          "base_uri": "https://localhost:8080/"
        },
        "id": "bQSUKxidtBpM",
        "outputId": "8c48c131-7e7a-491f-b914-c6c7f07c7324"
      },
      "source": [
        "# prediction \n",
        "model.predict([17.0])"
      ],
      "execution_count": null,
      "outputs": [
        {
          "output_type": "execute_result",
          "data": {
            "text/plain": [
              "array([[31.941307]], dtype=float32)"
            ]
          },
          "metadata": {},
          "execution_count": 11
        }
      ]
    },
    {
      "cell_type": "markdown",
      "metadata": {
        "id": "LIOkQOeotqml"
      },
      "source": [
        "## Evaluating a model\n",
        "\n",
        "''' Build a model -> fit it -> evaluate it -> tweak a model -> fit it -> evaluate it-> tweak a model -> fit it -> evaluate it-> tweak a model -> fit it -> evaluate it'''"
      ]
    },
    {
      "cell_type": "markdown",
      "metadata": {
        "id": "LlL071xEsaKn"
      },
      "source": [
        "when it comes to evaluation we should remember 3 words which is:\n",
        "> \"Visualize, visualize, visualize\"\n",
        "\n",
        "We should visualize the following things\n",
        "* The data\n",
        "* The model\n",
        "* The training model\n",
        "* The prediction model"
      ]
    },
    {
      "cell_type": "code",
      "metadata": {
        "colab": {
          "base_uri": "https://localhost:8080/"
        },
        "id": "J9f5ZhHEsnKv",
        "outputId": "19fb8ef1-52b7-4b55-c429-1d06f9ff4f9a"
      },
      "source": [
        " # Make a bigger dataset\n",
        " X = tf.range(-100,101,4)\n",
        " X"
      ],
      "execution_count": null,
      "outputs": [
        {
          "output_type": "execute_result",
          "data": {
            "text/plain": [
              "<tf.Tensor: shape=(51,), dtype=int32, numpy=\n",
              "array([-100,  -96,  -92,  -88,  -84,  -80,  -76,  -72,  -68,  -64,  -60,\n",
              "        -56,  -52,  -48,  -44,  -40,  -36,  -32,  -28,  -24,  -20,  -16,\n",
              "        -12,   -8,   -4,    0,    4,    8,   12,   16,   20,   24,   28,\n",
              "         32,   36,   40,   44,   48,   52,   56,   60,   64,   68,   72,\n",
              "         76,   80,   84,   88,   92,   96,  100], dtype=int32)>"
            ]
          },
          "metadata": {},
          "execution_count": 12
        }
      ]
    },
    {
      "cell_type": "code",
      "metadata": {
        "colab": {
          "base_uri": "https://localhost:8080/"
        },
        "id": "ASox7hd_tdl8",
        "outputId": "7d22c927-c1ac-4916-cf47-c7fa6bc37121"
      },
      "source": [
        "# Make labels for the dataset\n",
        "y = X + 10\n",
        "y"
      ],
      "execution_count": null,
      "outputs": [
        {
          "output_type": "execute_result",
          "data": {
            "text/plain": [
              "<tf.Tensor: shape=(51,), dtype=int32, numpy=\n",
              "array([-90, -86, -82, -78, -74, -70, -66, -62, -58, -54, -50, -46, -42,\n",
              "       -38, -34, -30, -26, -22, -18, -14, -10,  -6,  -2,   2,   6,  10,\n",
              "        14,  18,  22,  26,  30,  34,  38,  42,  46,  50,  54,  58,  62,\n",
              "        66,  70,  74,  78,  82,  86,  90,  94,  98, 102, 106, 110],\n",
              "      dtype=int32)>"
            ]
          },
          "metadata": {},
          "execution_count": 13
        }
      ]
    },
    {
      "cell_type": "code",
      "metadata": {
        "colab": {
          "base_uri": "https://localhost:8080/",
          "height": 282
        },
        "id": "0poBnCj6tpFG",
        "outputId": "369d4887-f627-4a3c-bba9-1249d5e06e0b"
      },
      "source": [
        "# Visualize the data\n",
        "import matplotlib.pyplot as plt\n",
        "plt.scatter(X,y)"
      ],
      "execution_count": null,
      "outputs": [
        {
          "output_type": "execute_result",
          "data": {
            "text/plain": [
              "<matplotlib.collections.PathCollection at 0x7f9d55c55610>"
            ]
          },
          "metadata": {},
          "execution_count": 14
        },
        {
          "output_type": "display_data",
          "data": {
            "image/png": "[encoded data removed]",
            "text/plain": [
              "<Figure size 432x288 with 1 Axes>"
            ]
          },
          "metadata": {
            "needs_background": "light"
          }
        }
      ]
    },
    {
      "cell_type": "markdown",
      "metadata": {
        "id": "UPptlTCotw8l"
      },
      "source": [
        "### The 3 sets concept...\n",
        "\n",
        "* ***Training Data*** - The model learns from this data typically 70-80% of the total data available\n",
        "* ***Validation Data*** - The modle gets tuned on this data which is 10-15% of the total data available\n",
        "* ***Test Data*** - the model gets evaluated on this data to test what it has learned typically 10 - 15% of the total data available"
      ]
    },
    {
      "cell_type": "code",
      "metadata": {
        "colab": {
          "base_uri": "https://localhost:8080/"
        },
        "id": "cyynxO1huOYe",
        "outputId": "b9cf0d64-f292-4aef-b8ae-0d1d6d971d14"
      },
      "source": [
        "len(X)"
      ],
      "execution_count": null,
      "outputs": [
        {
          "output_type": "execute_result",
          "data": {
            "text/plain": [
              "51"
            ]
          },
          "metadata": {
            "tags": []
          },
          "execution_count": 16
        }
      ]
    },
    {
      "cell_type": "code",
      "metadata": {
        "colab": {
          "base_uri": "https://localhost:8080/"
        },
        "id": "7DQrn5STx5L0",
        "outputId": "4d481de8-7b80-4ce0-add4-e683464d8ebd"
      },
      "source": [
        "# Split the data into train and test dataset\n",
        "X_train = X[:40] # The first 40 are training samples (80% of the data)\n",
        "y_train = y[:40]\n",
        "\n",
        "X_test = X[40:] # The next 10 are testing samples (20% of the data)\n",
        "y_test = y[40:]\n",
        "\n",
        "len(X_train),len(X_test),len(y_train),len(y_test)"
      ],
      "execution_count": null,
      "outputs": [
        {
          "output_type": "execute_result",
          "data": {
            "text/plain": [
              "(40, 11, 40, 11)"
            ]
          },
          "metadata": {},
          "execution_count": 15
        }
      ]
    },
    {
      "cell_type": "code",
      "metadata": {
        "colab": {
          "base_uri": "https://localhost:8080/",
          "height": 428
        },
        "id": "kBmvsIo0zBPq",
        "outputId": "8bd54e64-8f33-4622-c4b7-a7498fe451e1"
      },
      "source": [
        "plt.figure(figsize = (10,7))\n",
        "# Plot training data in blue\n",
        "plt.scatter(X_train,y_train,c = \"b\",label = \"Training data\")\n",
        "# Plot testing data in green\n",
        "plt.scatter(X_test,y_test,c = \"g\", label = \"Testing data\")\n",
        "\n",
        "# Show a legend\n",
        "plt.legend();"
      ],
      "execution_count": null,
      "outputs": [
        {
          "output_type": "display_data",
          "data": {
            "image/png": "[encoded data removed]",
            "text/plain": [
              "<Figure size 720x504 with 1 Axes>"
            ]
          },
          "metadata": {
            "needs_background": "light"
          }
        }
      ]
    },
    {
      "cell_type": "code",
      "metadata": {
        "id": "FEEY1XfJz72q"
      },
      "source": [
        " # Let's have a look at how to build a neural network\n",
        "\n",
        " # 1.Create a model\n",
        " model = tf.keras.Sequential([\n",
        "        tf.keras.layers.Dense(1)\n",
        " ])\n",
        "\n",
        " # 2.Compile a model\n",
        " model.compile(loss = tf.keras.losses.mae,\n",
        "            optimizer = tf.keras.optimizers.SGD(),\n",
        "            metrics = [\"mae\"])\n",
        " \n",
        "#  # 3.Fitting a model\n",
        "#  model.fit(X_train,y_train,epochs = 100)"
      ],
      "execution_count": null,
      "outputs": []
    },
    {
      "cell_type": "code",
      "metadata": {
        "id": "pMDBEu9VrRzC"
      },
      "source": [
        "# Getting the input_shape automatically\n",
        "tf.random.set_seed(42)\n",
        "\n",
        "#1.Create a model\n",
        "model = tf.keras.Sequential([\n",
        "    tf.keras.layers.Dense(3,input_shape = [1],name = \"Input_Layer\"),\n",
        "    tf.keras.layers.Dense(1,name = \"Output_Layer\")\n",
        "],name = \"Model_1\")\n",
        "\n",
        "#2.Compile a model\n",
        "model.compile(\n",
        "    loss = tf.keras.losses.mae,\n",
        "    optimizer = tf.keras.optimizers.SGD(),\n",
        "    metrics = [\"mae\"]\n",
        ")"
      ],
      "execution_count": null,
      "outputs": []
    },
    {
      "cell_type": "code",
      "metadata": {
        "colab": {
          "base_uri": "https://localhost:8080/"
        },
        "id": "L8BC2s8Ptya6",
        "outputId": "1f25bf5a-3673-422a-889d-984dd85c43ac"
      },
      "source": [
        "model.summary()"
      ],
      "execution_count": null,
      "outputs": [
        {
          "output_type": "stream",
          "text": [
            "Model: \"Model_1\"\n",
            "_________________________________________________________________\n",
            "Layer (type)                 Output Shape              Param #   \n",
            "=================================================================\n",
            "Input_Layer (Dense)          (None, 3)                 6         \n",
            "_________________________________________________________________\n",
            "Output_Layer (Dense)         (None, 1)                 4         \n",
            "=================================================================\n",
            "Total params: 10\n",
            "Trainable params: 10\n",
            "Non-trainable params: 0\n",
            "_________________________________________________________________\n"
          ],
          "name": "stdout"
        }
      ]
    },
    {
      "cell_type": "markdown",
      "metadata": {
        "id": "PAFd_E3fuBLT"
      },
      "source": [
        "* Total Params = Total number of parameters in the model\n",
        "* Trainable parameters = These parameters can update as it trains\n",
        "* Non trainable parameters = These parameters aren't updated during training"
      ]
    },
    {
      "cell_type": "code",
      "metadata": {
        "colab": {
          "base_uri": "https://localhost:8080/"
        },
        "id": "md2NSXjA_0FS",
        "outputId": "f6c800c5-aa5b-40e3-c8bd-9579565d3258"
      },
      "source": [
        "# 3.Fit the mode\n",
        "model.fit(X_train,y_train,epochs = 100)"
      ],
      "execution_count": null,
      "outputs": [
        {
          "output_type": "stream",
          "text": [
            "Epoch 1/100\n",
            "2/2 [==============================] - 0s 6ms/step - loss: 43.8872 - mae: 43.8872\n",
            "Epoch 2/100\n",
            "2/2 [==============================] - 0s 7ms/step - loss: 11.8576 - mae: 11.8576\n",
            "Epoch 3/100\n",
            "2/2 [==============================] - 0s 6ms/step - loss: 18.9307 - mae: 18.9307\n",
            "Epoch 4/100\n",
            "2/2 [==============================] - 0s 4ms/step - loss: 13.6602 - mae: 13.6602\n",
            "Epoch 5/100\n",
            "2/2 [==============================] - 0s 4ms/step - loss: 15.0215 - mae: 15.0215\n",
            "Epoch 6/100\n",
            "2/2 [==============================] - 0s 11ms/step - loss: 11.9269 - mae: 11.9269\n",
            "Epoch 7/100\n",
            "2/2 [==============================] - 0s 8ms/step - loss: 11.2274 - mae: 11.2274\n",
            "Epoch 8/100\n",
            "2/2 [==============================] - 0s 9ms/step - loss: 11.0736 - mae: 11.0736\n",
            "Epoch 9/100\n",
            "2/2 [==============================] - 0s 7ms/step - loss: 40.5734 - mae: 40.5734\n",
            "Epoch 10/100\n",
            "2/2 [==============================] - 0s 6ms/step - loss: 27.9568 - mae: 27.9568\n",
            "Epoch 11/100\n",
            "2/2 [==============================] - 0s 5ms/step - loss: 10.2307 - mae: 10.2307\n",
            "Epoch 12/100\n",
            "2/2 [==============================] - 0s 6ms/step - loss: 25.2319 - mae: 25.2319\n",
            "Epoch 13/100\n",
            "2/2 [==============================] - 0s 4ms/step - loss: 17.0306 - mae: 17.0306\n",
            "Epoch 14/100\n",
            "2/2 [==============================] - 0s 6ms/step - loss: 26.0159 - mae: 26.0159\n",
            "Epoch 15/100\n",
            "2/2 [==============================] - 0s 6ms/step - loss: 18.0686 - mae: 18.0686\n",
            "Epoch 16/100\n",
            "2/2 [==============================] - 0s 5ms/step - loss: 7.8446 - mae: 7.8446\n",
            "Epoch 17/100\n",
            "2/2 [==============================] - 0s 4ms/step - loss: 22.1900 - mae: 22.1900\n",
            "Epoch 18/100\n",
            "2/2 [==============================] - 0s 4ms/step - loss: 10.8043 - mae: 10.8043\n",
            "Epoch 19/100\n",
            "2/2 [==============================] - 0s 4ms/step - loss: 10.6945 - mae: 10.6945\n",
            "Epoch 20/100\n",
            "2/2 [==============================] - 0s 5ms/step - loss: 12.0196 - mae: 12.0196\n",
            "Epoch 21/100\n",
            "2/2 [==============================] - 0s 3ms/step - loss: 20.1356 - mae: 20.1356\n",
            "Epoch 22/100\n",
            "2/2 [==============================] - 0s 4ms/step - loss: 13.7684 - mae: 13.7684\n",
            "Epoch 23/100\n",
            "2/2 [==============================] - 0s 4ms/step - loss: 9.5224 - mae: 9.5224\n",
            "Epoch 24/100\n",
            "2/2 [==============================] - 0s 4ms/step - loss: 11.8799 - mae: 11.8799\n",
            "Epoch 25/100\n",
            "2/2 [==============================] - 0s 4ms/step - loss: 16.2141 - mae: 16.2141\n",
            "Epoch 26/100\n",
            "2/2 [==============================] - 0s 4ms/step - loss: 16.4028 - mae: 16.4028\n",
            "Epoch 27/100\n",
            "2/2 [==============================] - 0s 4ms/step - loss: 11.5750 - mae: 11.5750\n",
            "Epoch 28/100\n",
            "2/2 [==============================] - 0s 4ms/step - loss: 30.0224 - mae: 30.0224\n",
            "Epoch 29/100\n",
            "2/2 [==============================] - 0s 17ms/step - loss: 9.2369 - mae: 9.2369\n",
            "Epoch 30/100\n",
            "2/2 [==============================] - 0s 10ms/step - loss: 30.5695 - mae: 30.5695\n",
            "Epoch 31/100\n",
            "2/2 [==============================] - 0s 6ms/step - loss: 55.5736 - mae: 55.5736\n",
            "Epoch 32/100\n",
            "2/2 [==============================] - 0s 5ms/step - loss: 9.7222 - mae: 9.7222\n",
            "Epoch 33/100\n",
            "2/2 [==============================] - 0s 3ms/step - loss: 12.3434 - mae: 12.3434\n",
            "Epoch 34/100\n",
            "2/2 [==============================] - 0s 7ms/step - loss: 24.7594 - mae: 24.7594\n",
            "Epoch 35/100\n",
            "2/2 [==============================] - 0s 6ms/step - loss: 11.8989 - mae: 11.8989\n",
            "Epoch 36/100\n",
            "2/2 [==============================] - 0s 4ms/step - loss: 22.0700 - mae: 22.0700\n",
            "Epoch 37/100\n",
            "2/2 [==============================] - 0s 8ms/step - loss: 17.8774 - mae: 17.8774\n",
            "Epoch 38/100\n",
            "2/2 [==============================] - 0s 10ms/step - loss: 9.9647 - mae: 9.9647\n",
            "Epoch 39/100\n",
            "2/2 [==============================] - 0s 15ms/step - loss: 10.4975 - mae: 10.4975\n",
            "Epoch 40/100\n",
            "2/2 [==============================] - 0s 4ms/step - loss: 15.6024 - mae: 15.6024\n",
            "Epoch 41/100\n",
            "2/2 [==============================] - 0s 9ms/step - loss: 11.8240 - mae: 11.8240\n",
            "Epoch 42/100\n",
            "2/2 [==============================] - 0s 4ms/step - loss: 9.9433 - mae: 9.9433\n",
            "Epoch 43/100\n",
            "2/2 [==============================] - 0s 4ms/step - loss: 9.7875 - mae: 9.7875\n",
            "Epoch 44/100\n",
            "2/2 [==============================] - 0s 8ms/step - loss: 30.6517 - mae: 30.6517\n",
            "Epoch 45/100\n",
            "2/2 [==============================] - 0s 9ms/step - loss: 11.9890 - mae: 11.9890\n",
            "Epoch 46/100\n",
            "2/2 [==============================] - 0s 8ms/step - loss: 16.1726 - mae: 16.1726\n",
            "Epoch 47/100\n",
            "2/2 [==============================] - 0s 7ms/step - loss: 15.0187 - mae: 15.0187\n",
            "Epoch 48/100\n",
            "2/2 [==============================] - 0s 8ms/step - loss: 14.2354 - mae: 14.2354\n",
            "Epoch 49/100\n",
            "2/2 [==============================] - 0s 11ms/step - loss: 13.7820 - mae: 13.7820\n",
            "Epoch 50/100\n",
            "2/2 [==============================] - 0s 9ms/step - loss: 12.6537 - mae: 12.6537\n",
            "Epoch 51/100\n",
            "2/2 [==============================] - 0s 9ms/step - loss: 14.7010 - mae: 14.7010\n",
            "Epoch 52/100\n",
            "2/2 [==============================] - 0s 4ms/step - loss: 18.6093 - mae: 18.6093\n",
            "Epoch 53/100\n",
            "2/2 [==============================] - 0s 4ms/step - loss: 23.9311 - mae: 23.9311\n",
            "Epoch 54/100\n",
            "2/2 [==============================] - 0s 6ms/step - loss: 23.9605 - mae: 23.9605\n",
            "Epoch 55/100\n",
            "2/2 [==============================] - 0s 6ms/step - loss: 23.1790 - mae: 23.1790\n",
            "Epoch 56/100\n",
            "2/2 [==============================] - 0s 6ms/step - loss: 10.8650 - mae: 10.8650\n",
            "Epoch 57/100\n",
            "2/2 [==============================] - 0s 5ms/step - loss: 12.7280 - mae: 12.7280\n",
            "Epoch 58/100\n",
            "2/2 [==============================] - 0s 17ms/step - loss: 9.5862 - mae: 9.5862\n",
            "Epoch 59/100\n",
            "2/2 [==============================] - 0s 7ms/step - loss: 12.5087 - mae: 12.5087\n",
            "Epoch 60/100\n",
            "2/2 [==============================] - 0s 3ms/step - loss: 12.3144 - mae: 12.3144\n",
            "Epoch 61/100\n",
            "2/2 [==============================] - 0s 8ms/step - loss: 17.4750 - mae: 17.4750\n",
            "Epoch 62/100\n",
            "2/2 [==============================] - 0s 7ms/step - loss: 10.6010 - mae: 10.6010\n",
            "Epoch 63/100\n",
            "2/2 [==============================] - 0s 3ms/step - loss: 10.4823 - mae: 10.4823\n",
            "Epoch 64/100\n",
            "2/2 [==============================] - 0s 5ms/step - loss: 24.8895 - mae: 24.8895\n",
            "Epoch 65/100\n",
            "2/2 [==============================] - 0s 9ms/step - loss: 10.6708 - mae: 10.6708\n",
            "Epoch 66/100\n",
            "2/2 [==============================] - 0s 4ms/step - loss: 22.0094 - mae: 22.0094\n",
            "Epoch 67/100\n",
            "2/2 [==============================] - 0s 4ms/step - loss: 10.1903 - mae: 10.1903\n",
            "Epoch 68/100\n",
            "2/2 [==============================] - 0s 4ms/step - loss: 13.3612 - mae: 13.3612\n",
            "Epoch 69/100\n",
            "2/2 [==============================] - 0s 4ms/step - loss: 11.3487 - mae: 11.3487\n",
            "Epoch 70/100\n",
            "2/2 [==============================] - 0s 7ms/step - loss: 13.5276 - mae: 13.5276\n",
            "Epoch 71/100\n",
            "2/2 [==============================] - 0s 5ms/step - loss: 15.5290 - mae: 15.5290\n",
            "Epoch 72/100\n",
            "2/2 [==============================] - 0s 5ms/step - loss: 11.7829 - mae: 11.7829\n",
            "Epoch 73/100\n",
            "2/2 [==============================] - 0s 4ms/step - loss: 16.5542 - mae: 16.5542\n",
            "Epoch 74/100\n",
            "2/2 [==============================] - 0s 4ms/step - loss: 24.0500 - mae: 24.0500\n",
            "Epoch 75/100\n",
            "2/2 [==============================] - 0s 6ms/step - loss: 9.5782 - mae: 9.5782\n",
            "Epoch 76/100\n",
            "2/2 [==============================] - 0s 3ms/step - loss: 12.4276 - mae: 12.4276\n",
            "Epoch 77/100\n",
            "2/2 [==============================] - 0s 8ms/step - loss: 16.6655 - mae: 16.6655\n",
            "Epoch 78/100\n",
            "2/2 [==============================] - 0s 9ms/step - loss: 9.0482 - mae: 9.0482\n",
            "Epoch 79/100\n",
            "2/2 [==============================] - 0s 7ms/step - loss: 24.0047 - mae: 24.0047\n",
            "Epoch 80/100\n",
            "2/2 [==============================] - 0s 3ms/step - loss: 26.7906 - mae: 26.7906\n",
            "Epoch 81/100\n",
            "2/2 [==============================] - 0s 8ms/step - loss: 11.6779 - mae: 11.6779\n",
            "Epoch 82/100\n",
            "2/2 [==============================] - 0s 6ms/step - loss: 12.0013 - mae: 12.0013\n",
            "Epoch 83/100\n",
            "2/2 [==============================] - 0s 5ms/step - loss: 17.3902 - mae: 17.3902\n",
            "Epoch 84/100\n",
            "2/2 [==============================] - 0s 7ms/step - loss: 7.2443 - mae: 7.2443\n",
            "Epoch 85/100\n",
            "2/2 [==============================] - 0s 3ms/step - loss: 14.9353 - mae: 14.9353\n",
            "Epoch 86/100\n",
            "2/2 [==============================] - 0s 3ms/step - loss: 15.2603 - mae: 15.2603\n",
            "Epoch 87/100\n",
            "2/2 [==============================] - 0s 5ms/step - loss: 19.0617 - mae: 19.0617\n",
            "Epoch 88/100\n",
            "2/2 [==============================] - 0s 10ms/step - loss: 29.9393 - mae: 29.9393\n",
            "Epoch 89/100\n",
            "2/2 [==============================] - 0s 8ms/step - loss: 10.1777 - mae: 10.1777\n",
            "Epoch 90/100\n",
            "2/2 [==============================] - 0s 6ms/step - loss: 21.6279 - mae: 21.6279\n",
            "Epoch 91/100\n",
            "2/2 [==============================] - 0s 6ms/step - loss: 10.5845 - mae: 10.5845\n",
            "Epoch 92/100\n",
            "2/2 [==============================] - 0s 6ms/step - loss: 18.4967 - mae: 18.4967\n",
            "Epoch 93/100\n",
            "2/2 [==============================] - 0s 2ms/step - loss: 8.1414 - mae: 8.1414\n",
            "Epoch 94/100\n",
            "2/2 [==============================] - 0s 7ms/step - loss: 11.3521 - mae: 11.3521\n",
            "Epoch 95/100\n",
            "2/2 [==============================] - 0s 9ms/step - loss: 25.4377 - mae: 25.4377\n",
            "Epoch 96/100\n",
            "2/2 [==============================] - 0s 7ms/step - loss: 10.9736 - mae: 10.9736\n",
            "Epoch 97/100\n",
            "2/2 [==============================] - 0s 4ms/step - loss: 16.3058 - mae: 16.3058\n",
            "Epoch 98/100\n",
            "2/2 [==============================] - 0s 7ms/step - loss: 6.8242 - mae: 6.8242\n",
            "Epoch 99/100\n",
            "2/2 [==============================] - 0s 3ms/step - loss: 11.6881 - mae: 11.6881\n",
            "Epoch 100/100\n",
            "2/2 [==============================] - 0s 3ms/step - loss: 23.5152 - mae: 23.5152\n"
          ],
          "name": "stdout"
        },
        {
          "output_type": "execute_result",
          "data": {
            "text/plain": [
              "<keras.callbacks.History at 0x7f9da5d85610>"
            ]
          },
          "metadata": {},
          "execution_count": 33
        }
      ]
    },
    {
      "cell_type": "code",
      "metadata": {
        "id": "bNQ95joxAt7n",
        "colab": {
          "base_uri": "https://localhost:8080/"
        },
        "outputId": "997b32c9-5386-4d88-f103-580da14fe2bd"
      },
      "source": [
        "# Get a summary of our model\n",
        "model.summary()"
      ],
      "execution_count": null,
      "outputs": [
        {
          "output_type": "stream",
          "text": [
            "Model: \"Model_1\"\n",
            "_________________________________________________________________\n",
            "Layer (type)                 Output Shape              Param #   \n",
            "=================================================================\n",
            "Input_Layer (Dense)          (None, 3)                 6         \n",
            "_________________________________________________________________\n",
            "Output_Layer (Dense)         (None, 1)                 4         \n",
            "=================================================================\n",
            "Total params: 10\n",
            "Trainable params: 10\n",
            "Non-trainable params: 0\n",
            "_________________________________________________________________\n"
          ],
          "name": "stdout"
        }
      ]
    },
    {
      "cell_type": "code",
      "metadata": {
        "id": "Mz_MMcYASRG3",
        "colab": {
          "base_uri": "https://localhost:8080/",
          "height": 312
        },
        "outputId": "28764c90-80ea-4853-867f-e2370938afc5"
      },
      "source": [
        "from tensorflow.keras.utils import plot_model\n",
        "plot_model(model,show_shapes = True)"
      ],
      "execution_count": null,
      "outputs": [
        {
          "output_type": "execute_result",
          "data": {
            "image/png": "[encoded data removed]",
            "text/plain": [
              "<IPython.core.display.Image object>"
            ]
          },
          "metadata": {},
          "execution_count": 35
        }
      ]
    },
    {
      "cell_type": "markdown",
      "metadata": {
        "id": "9PVebx_7EKZP"
      },
      "source": [
        "## Visualising our model prediction\n",
        "\n",
        "> To Visualise models prediction it's a good practice to plot them against ground truth labels"
      ]
    },
    {
      "cell_type": "code",
      "metadata": {
        "id": "rqO0sH62F2yu"
      },
      "source": [
        "# Make some predictions\n",
        "y_pred = model.predict(X_test)"
      ],
      "execution_count": null,
      "outputs": []
    },
    {
      "cell_type": "code",
      "metadata": {
        "colab": {
          "base_uri": "https://localhost:8080/"
        },
        "id": "yNkIZNZqIX-t",
        "outputId": "244967c4-edf1-4aa8-996e-10de0f343315"
      },
      "source": [
        "y_pred"
      ],
      "execution_count": null,
      "outputs": [
        {
          "output_type": "execute_result",
          "data": {
            "text/plain": [
              "array([[ 88.35568 ],\n",
              "       [ 94.12197 ],\n",
              "       [ 99.88827 ],\n",
              "       [105.65456 ],\n",
              "       [111.420845],\n",
              "       [117.18714 ],\n",
              "       [122.95344 ],\n",
              "       [128.71971 ],\n",
              "       [134.48602 ],\n",
              "       [140.25232 ],\n",
              "       [146.0186  ]], dtype=float32)"
            ]
          },
          "metadata": {},
          "execution_count": 38
        }
      ]
    },
    {
      "cell_type": "code",
      "metadata": {
        "id": "LOBnp96-Iogn"
      },
      "source": [
        "# Plotting function\n",
        "def plot_predictions(train_data = X_train,\n",
        "                     train_labels = y_train,\n",
        "                     test_data = X_test,\n",
        "                     test_labels = y_test,\n",
        "                     prediction = y_pred):\n",
        "  \"\"\"Plots training data,test data and compares prediction to ground labels\"\"\"\n",
        "  plt.figure(figsize = (10,7))\n",
        "\n",
        "  # Plot training data in blue\n",
        "  plt.scatter(train_data,train_labels,c = \"b\",label = \"Training data\")\n",
        "  # plot testing data in green\n",
        "  plt.scatter(test_data,test_labels,c = \"g\",label = \"Testing data\")\n",
        "  # plot model's prediction in red\n",
        "  plt.scatter(test_data,prediction,c = \"r\",label = \"Prediction\")\n",
        "  # Show the model\n",
        "  plt.legend();"
      ],
      "execution_count": null,
      "outputs": []
    },
    {
      "cell_type": "code",
      "metadata": {
        "colab": {
          "base_uri": "https://localhost:8080/",
          "height": 428
        },
        "id": "fpuCgChvL0Sk",
        "outputId": "0f680ddf-3ecf-4e22-97a2-2d747f87e7f7"
      },
      "source": [
        "plot_predictions()"
      ],
      "execution_count": null,
      "outputs": [
        {
          "output_type": "display_data",
          "data": {
            "image/png": "[encoded data removed]",
            "text/plain": [
              "<Figure size 720x504 with 1 Axes>"
            ]
          },
          "metadata": {
            "needs_background": "light"
          }
        }
      ]
    },
    {
      "cell_type": "markdown",
      "metadata": {
        "id": "OUCYnD6SL8la"
      },
      "source": [
        "### Evaluating our model prediction with regression evaluation metrics\n",
        "\n",
        "> MAE - Mean Average Error \"On average how wrong our model's prediction\"\n",
        "\n",
        "\n",
        "> MSE - Mean Square Error \"Square of average error\""
      ]
    },
    {
      "cell_type": "code",
      "metadata": {
        "id": "jfXybxXEMbu3"
      },
      "source": [
        ""
      ],
      "execution_count": null,
      "outputs": []
    }
  ]
}