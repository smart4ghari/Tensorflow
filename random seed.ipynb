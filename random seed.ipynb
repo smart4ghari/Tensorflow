{
 "cells": [
  {
   "cell_type": "code",
   "execution_count": 1,
   "id": "academic-reflection",
   "metadata": {},
   "outputs": [],
   "source": [
    "import numpy as np"
   ]
  },
  {
   "cell_type": "code",
   "execution_count": 11,
   "id": "commercial-louisiana",
   "metadata": {},
   "outputs": [
    {
     "data": {
      "text/plain": [
       "array([[8, 9, 3, 8, 8],\n",
       "       [0, 5, 3, 9, 9],\n",
       "       [5, 7, 6, 0, 4],\n",
       "       [7, 8, 1, 6, 2],\n",
       "       [2, 1, 3, 5, 8]])"
      ]
     },
     "execution_count": 11,
     "metadata": {},
     "output_type": "execute_result"
    }
   ],
   "source": [
    "np.random.seed(3)\n",
    "random_array1 = np.random.randint(10,size = (5,5))\n",
    "random_array1"
   ]
  },
  {
   "cell_type": "markdown",
   "id": "juvenile-fighter",
   "metadata": {},
   "source": [
    "## Whenever we add seed inside of random array the random array remains same and it doesn't change"
   ]
  },
  {
   "cell_type": "code",
   "execution_count": 12,
   "id": "fitting-appendix",
   "metadata": {},
   "outputs": [
    {
     "data": {
      "text/plain": [
       "array([[0.4151012 , 0.28352508, 0.69313792],\n",
       "       [0.44045372, 0.15686774, 0.54464902],\n",
       "       [0.78031476, 0.30636353, 0.22195788]])"
      ]
     },
     "execution_count": 12,
     "metadata": {},
     "output_type": "execute_result"
    }
   ],
   "source": [
    "random_array2 = np.random.random(size = (3,3))\n",
    "random_array2"
   ]
  },
  {
   "cell_type": "markdown",
   "id": "light-quantity",
   "metadata": {},
   "source": [
    "## Whenever we don't use seed method we'll don't get the same random numbers like we did in seed (Therefore numpy already contains some pseudo random numberz)"
   ]
  },
  {
   "cell_type": "code",
   "execution_count": null,
   "id": "anonymous-ferry",
   "metadata": {},
   "outputs": [],
   "source": []
  }
 ],
 "metadata": {
  "kernelspec": {
   "display_name": "Python 3",
   "language": "python",
   "name": "python3"
  },
  "language_info": {
   "codemirror_mode": {
    "name": "ipython",
    "version": 3
   },
   "file_extension": ".py",
   "mimetype": "text/x-python",
   "name": "python",
   "nbconvert_exporter": "python",
   "pygments_lexer": "ipython3",
   "version": "3.7.9"
  }
 },
 "nbformat": 4,
 "nbformat_minor": 5
}
