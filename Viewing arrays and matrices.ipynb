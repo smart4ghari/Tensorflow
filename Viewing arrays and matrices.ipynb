{
 "cells": [
  {
   "cell_type": "markdown",
   "id": "allied-kelly",
   "metadata": {},
   "source": [
    "## Vieweing Arrays and Matrices\n",
    "\n",
    "## Unique function"
   ]
  },
  {
   "cell_type": "code",
   "execution_count": 1,
   "id": "fatty-documentation",
   "metadata": {},
   "outputs": [],
   "source": [
    "import numpy as np"
   ]
  },
  {
   "cell_type": "code",
   "execution_count": 2,
   "id": "extra-album",
   "metadata": {},
   "outputs": [
    {
     "name": "stdout",
     "output_type": "stream",
     "text": [
      "[[9 4 7 7]\n",
      " [9 9 0 4]\n",
      " [4 3 4 1]\n",
      " [4 6 2 2]\n",
      " [0 5 7 6]]\n"
     ]
    }
   ],
   "source": [
    "random_arr = np.random.randint(10,size = (5,4))\n",
    "print(random_arr)"
   ]
  },
  {
   "cell_type": "code",
   "execution_count": 5,
   "id": "expected-mention",
   "metadata": {},
   "outputs": [
    {
     "name": "stdout",
     "output_type": "stream",
     "text": [
      "[0 1 2 3 4 5 6 7 9]\n"
     ]
    }
   ],
   "source": [
    "unique = np.unique(random_arr)\n",
    "print(unique)"
   ]
  },
  {
   "cell_type": "code",
   "execution_count": 9,
   "id": "excess-external",
   "metadata": {},
   "outputs": [],
   "source": [
    "a1 = np.array([12,12,14])"
   ]
  },
  {
   "cell_type": "code",
   "execution_count": 10,
   "id": "voluntary-brown",
   "metadata": {},
   "outputs": [],
   "source": [
    "a2 = np.array([[1,2,3],\n",
    "              [4,5,6]])"
   ]
  },
  {
   "cell_type": "code",
   "execution_count": 11,
   "id": "aerial-kinase",
   "metadata": {},
   "outputs": [],
   "source": [
    "a3 = np.array([[[1,2,3],\n",
    "               [4,5,6],\n",
    "               [7,8,9]],\n",
    "              [[10,11,12],\n",
    "              [13,14,15],\n",
    "              [16,17,18]]])"
   ]
  },
  {
   "cell_type": "code",
   "execution_count": 12,
   "id": "preliminary-calgary",
   "metadata": {},
   "outputs": [
    {
     "data": {
      "text/plain": [
       "array([12, 12, 14])"
      ]
     },
     "execution_count": 12,
     "metadata": {},
     "output_type": "execute_result"
    }
   ],
   "source": [
    "a1"
   ]
  },
  {
   "cell_type": "code",
   "execution_count": 13,
   "id": "english-probability",
   "metadata": {},
   "outputs": [
    {
     "data": {
      "text/plain": [
       "array([[1, 2, 3],\n",
       "       [4, 5, 6]])"
      ]
     },
     "execution_count": 13,
     "metadata": {},
     "output_type": "execute_result"
    }
   ],
   "source": [
    "a2"
   ]
  },
  {
   "cell_type": "code",
   "execution_count": 14,
   "id": "appreciated-ready",
   "metadata": {},
   "outputs": [
    {
     "data": {
      "text/plain": [
       "array([[[ 1,  2,  3],\n",
       "        [ 4,  5,  6],\n",
       "        [ 7,  8,  9]],\n",
       "\n",
       "       [[10, 11, 12],\n",
       "        [13, 14, 15],\n",
       "        [16, 17, 18]]])"
      ]
     },
     "execution_count": 14,
     "metadata": {},
     "output_type": "execute_result"
    }
   ],
   "source": [
    "a3"
   ]
  },
  {
   "cell_type": "code",
   "execution_count": 15,
   "id": "veterinary-american",
   "metadata": {},
   "outputs": [
    {
     "data": {
      "text/plain": [
       "12"
      ]
     },
     "execution_count": 15,
     "metadata": {},
     "output_type": "execute_result"
    }
   ],
   "source": [
    "a1[1]"
   ]
  },
  {
   "cell_type": "code",
   "execution_count": 16,
   "id": "united-ultimate",
   "metadata": {},
   "outputs": [
    {
     "data": {
      "text/plain": [
       "array([4, 5, 6])"
      ]
     },
     "execution_count": 16,
     "metadata": {},
     "output_type": "execute_result"
    }
   ],
   "source": [
    "a2[1]"
   ]
  },
  {
   "cell_type": "code",
   "execution_count": 17,
   "id": "quiet-finder",
   "metadata": {},
   "outputs": [
    {
     "data": {
      "text/plain": [
       "array([[10, 11, 12],\n",
       "       [13, 14, 15],\n",
       "       [16, 17, 18]])"
      ]
     },
     "execution_count": 17,
     "metadata": {},
     "output_type": "execute_result"
    }
   ],
   "source": [
    "a3[1]"
   ]
  },
  {
   "cell_type": "code",
   "execution_count": 20,
   "id": "appropriate-liabilities",
   "metadata": {},
   "outputs": [
    {
     "data": {
      "text/plain": [
       "array([[[ 1,  2],\n",
       "        [ 4,  5]],\n",
       "\n",
       "       [[10, 11],\n",
       "        [13, 14]]])"
      ]
     },
     "execution_count": 20,
     "metadata": {},
     "output_type": "execute_result"
    }
   ],
   "source": [
    "a3[:2,:2,:2]"
   ]
  },
  {
   "cell_type": "code",
   "execution_count": 23,
   "id": "favorite-reminder",
   "metadata": {},
   "outputs": [],
   "source": [
    "a4 = np.random.randint(10,size = (2,3,4,5)) # 4d array\n",
    "# Practice to count from the outermost number it'll be the best"
   ]
  },
  {
   "cell_type": "code",
   "execution_count": 24,
   "id": "involved-moisture",
   "metadata": {},
   "outputs": [
    {
     "name": "stdout",
     "output_type": "stream",
     "text": [
      "[[[[9 6 4 9 7]\n",
      "   [2 6 5 2 7]\n",
      "   [0 6 1 7 6]\n",
      "   [0 5 6 2 8]]\n",
      "\n",
      "  [[6 2 0 7 7]\n",
      "   [7 7 4 7 6]\n",
      "   [0 6 8 5 8]\n",
      "   [2 8 1 7 4]]\n",
      "\n",
      "  [[2 4 2 5 7]\n",
      "   [1 2 3 4 8]\n",
      "   [4 0 5 9 2]\n",
      "   [0 9 0 1 2]]]\n",
      "\n",
      "\n",
      " [[[0 2 1 3 1]\n",
      "   [4 1 0 8 2]\n",
      "   [0 8 0 4 6]\n",
      "   [9 2 0 9 6]]\n",
      "\n",
      "  [[9 9 9 7 4]\n",
      "   [0 6 8 3 5]\n",
      "   [6 9 4 4 0]\n",
      "   [2 8 3 3 5]]\n",
      "\n",
      "  [[2 6 5 8 3]\n",
      "   [5 4 0 9 4]\n",
      "   [7 5 5 1 6]\n",
      "   [7 3 7 4 5]]]]\n"
     ]
    }
   ],
   "source": [
    "print(a4)"
   ]
  },
  {
   "cell_type": "code",
   "execution_count": 33,
   "id": "precise-sherman",
   "metadata": {},
   "outputs": [
    {
     "data": {
      "text/plain": [
       "((2, 3, 4, 5), 4)"
      ]
     },
     "execution_count": 33,
     "metadata": {},
     "output_type": "execute_result"
    }
   ],
   "source": [
    " a4.shape, a4.ndim"
   ]
  },
  {
   "cell_type": "code",
   "execution_count": 34,
   "id": "continental-microphone",
   "metadata": {},
   "outputs": [
    {
     "data": {
      "text/plain": [
       "array([[[[9, 6, 4, 9],\n",
       "         [2, 6, 5, 2],\n",
       "         [0, 6, 1, 7],\n",
       "         [0, 5, 6, 2]],\n",
       "\n",
       "        [[6, 2, 0, 7],\n",
       "         [7, 7, 4, 7],\n",
       "         [0, 6, 8, 5],\n",
       "         [2, 8, 1, 7]],\n",
       "\n",
       "        [[2, 4, 2, 5],\n",
       "         [1, 2, 3, 4],\n",
       "         [4, 0, 5, 9],\n",
       "         [0, 9, 0, 1]]],\n",
       "\n",
       "\n",
       "       [[[0, 2, 1, 3],\n",
       "         [4, 1, 0, 8],\n",
       "         [0, 8, 0, 4],\n",
       "         [9, 2, 0, 9]],\n",
       "\n",
       "        [[9, 9, 9, 7],\n",
       "         [0, 6, 8, 3],\n",
       "         [6, 9, 4, 4],\n",
       "         [2, 8, 3, 3]],\n",
       "\n",
       "        [[2, 6, 5, 8],\n",
       "         [5, 4, 0, 9],\n",
       "         [7, 5, 5, 1],\n",
       "         [7, 3, 7, 4]]]])"
      ]
     },
     "execution_count": 34,
     "metadata": {},
     "output_type": "execute_result"
    }
   ],
   "source": [
    "# Get the first 4 numbers of innermost array\n",
    "a4[:,:,:,:4]"
   ]
  },
  {
   "cell_type": "code",
   "execution_count": 36,
   "id": "thorough-diesel",
   "metadata": {},
   "outputs": [
    {
     "data": {
      "text/plain": [
       "array([[[[9, 6],\n",
       "         [2, 6],\n",
       "         [0, 6],\n",
       "         [0, 5]],\n",
       "\n",
       "        [[6, 2],\n",
       "         [7, 7],\n",
       "         [0, 6],\n",
       "         [2, 8]],\n",
       "\n",
       "        [[2, 4],\n",
       "         [1, 2],\n",
       "         [4, 0],\n",
       "         [0, 9]]],\n",
       "\n",
       "\n",
       "       [[[0, 2],\n",
       "         [4, 1],\n",
       "         [0, 8],\n",
       "         [9, 2]],\n",
       "\n",
       "        [[9, 9],\n",
       "         [0, 6],\n",
       "         [6, 9],\n",
       "         [2, 8]],\n",
       "\n",
       "        [[2, 6],\n",
       "         [5, 4],\n",
       "         [7, 5],\n",
       "         [7, 3]]]])"
      ]
     },
     "execution_count": 36,
     "metadata": {},
     "output_type": "execute_result"
    }
   ],
   "source": [
    "a4[:,:,:,:2]"
   ]
  },
  {
   "cell_type": "code",
   "execution_count": null,
   "id": "liquid-spokesman",
   "metadata": {},
   "outputs": [],
   "source": []
  }
 ],
 "metadata": {
  "kernelspec": {
   "display_name": "Python 3",
   "language": "python",
   "name": "python3"
  },
  "language_info": {
   "codemirror_mode": {
    "name": "ipython",
    "version": 3
   },
   "file_extension": ".py",
   "mimetype": "text/x-python",
   "name": "python",
   "nbconvert_exporter": "python",
   "pygments_lexer": "ipython3",
   "version": "3.7.9"
  }
 },
 "nbformat": 4,
 "nbformat_minor": 5
}
