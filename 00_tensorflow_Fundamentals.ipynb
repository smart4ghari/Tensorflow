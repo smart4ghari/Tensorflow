{
  "nbformat": 4,
  "nbformat_minor": 0,
  "metadata": {
    "colab": {
      "name": "00_tensorflow Fundamentals.ipynb",
      "provenance": [],
      "collapsed_sections": [],
      "authorship_tag": "ABX9TyNnO/KoJqRu0DLLjOJWHEtj",
      "include_colab_link": true
    },
    "kernelspec": {
      "name": "python3",
      "display_name": "Python 3"
    },
    "language_info": {
      "name": "python"
    }
  },
  "cells": [
    {
      "cell_type": "markdown",
      "metadata": {
        "id": "view-in-github",
        "colab_type": "text"
      },
      "source": [
        "<a href=\"https://colab.research.google.com/github/smart4ghari/Tensorflow/blob/master/00_tensorflow_Fundamentals.ipynb\" target=\"_parent\"><img src=\"https://colab.research.google.com/assets/colab-badge.svg\" alt=\"Open In Colab\"/></a>"
      ]
    },
    {
      "cell_type": "markdown",
      "metadata": {
        "id": "UsaGvFsgM_i-"
      },
      "source": [
        "# TensorFlow Fundamentals\n",
        "* Introduction to Tensors\n",
        "* Getting Information from tensors\n",
        "* Manipulating tensors\n",
        "* Tensors and Numpy\n",
        "* Using tf.function(a way to speed up regular python functions)\n",
        "* Using GPU with tensorflow\n",
        "* Exercises"
      ]
    },
    {
      "cell_type": "markdown",
      "metadata": {
        "id": "lAqRT-PtNvtf"
      },
      "source": [
        "## Introduction to Tensorflow"
      ]
    },
    {
      "cell_type": "code",
      "metadata": {
        "colab": {
          "base_uri": "https://localhost:8080/"
        },
        "id": "9HJtSGlMOXE1",
        "outputId": "7aad01d5-5b11-4b7e-d7db-1d01524c6a21"
      },
      "source": [
        "import tensorflow as tf\n",
        "import numpy as np\n",
        "print(tf.__version__)"
      ],
      "execution_count": null,
      "outputs": [
        {
          "output_type": "stream",
          "text": [
            "2.5.0\n"
          ],
          "name": "stdout"
        }
      ]
    },
    {
      "cell_type": "code",
      "metadata": {
        "colab": {
          "base_uri": "https://localhost:8080/"
        },
        "id": "nIz9XdOqOrh7",
        "outputId": "021a2fc4-6330-4b7e-ba64-208a9727cf6b"
      },
      "source": [
        "# Create tensor with tf.constant()\n",
        "scalar = tf.constant(9)\n",
        "scalar"
      ],
      "execution_count": null,
      "outputs": [
        {
          "output_type": "execute_result",
          "data": {
            "text/plain": [
              "<tf.Tensor: shape=(), dtype=int32, numpy=9>"
            ]
          },
          "metadata": {
            "tags": []
          },
          "execution_count": 2
        }
      ]
    },
    {
      "cell_type": "code",
      "metadata": {
        "colab": {
          "base_uri": "https://localhost:8080/"
        },
        "id": "TssP97rjQAMw",
        "outputId": "0b34af46-9794-4649-ae3f-6c7fb01bae8d"
      },
      "source": [
        "# Let's check the dimension with ndim\n",
        "scalar.ndim"
      ],
      "execution_count": null,
      "outputs": [
        {
          "output_type": "execute_result",
          "data": {
            "text/plain": [
              "0"
            ]
          },
          "metadata": {
            "tags": []
          },
          "execution_count": 3
        }
      ]
    },
    {
      "cell_type": "code",
      "metadata": {
        "colab": {
          "base_uri": "https://localhost:8080/"
        },
        "id": "xIPFU80qQ55q",
        "outputId": "335e3cd1-ecec-4f62-c1d8-fdcd75acdacb"
      },
      "source": [
        "# Create a vector\n",
        "vector = tf.constant([10,10])\n",
        "vector\n",
        "# Look at the below given information the shape changes and numpy also changes\n"
      ],
      "execution_count": null,
      "outputs": [
        {
          "output_type": "execute_result",
          "data": {
            "text/plain": [
              "<tf.Tensor: shape=(2,), dtype=int32, numpy=array([10, 10], dtype=int32)>"
            ]
          },
          "metadata": {
            "tags": []
          },
          "execution_count": 4
        }
      ]
    },
    {
      "cell_type": "code",
      "metadata": {
        "colab": {
          "base_uri": "https://localhost:8080/"
        },
        "id": "1VJ6EoTBQ-tl",
        "outputId": "2935cea7-d304-4a6b-929c-07873fcc105e"
      },
      "source": [
        "vector.ndim"
      ],
      "execution_count": null,
      "outputs": [
        {
          "output_type": "execute_result",
          "data": {
            "text/plain": [
              "1"
            ]
          },
          "metadata": {
            "tags": []
          },
          "execution_count": 5
        }
      ]
    },
    {
      "cell_type": "code",
      "metadata": {
        "colab": {
          "base_uri": "https://localhost:8080/"
        },
        "id": "PDpbBn74RB7c",
        "outputId": "318ccf9c-dc18-4a2f-fe20-320424ab4079"
      },
      "source": [
        "# Create a matrix (has more than 1 dimension)\n",
        "matrix = tf.constant([[1,2],\n",
        "                     [3,4]])\n",
        "matrix"
      ],
      "execution_count": null,
      "outputs": [
        {
          "output_type": "execute_result",
          "data": {
            "text/plain": [
              "<tf.Tensor: shape=(2, 2), dtype=int32, numpy=\n",
              "array([[1, 2],\n",
              "       [3, 4]], dtype=int32)>"
            ]
          },
          "metadata": {
            "tags": []
          },
          "execution_count": 6
        }
      ]
    },
    {
      "cell_type": "code",
      "metadata": {
        "colab": {
          "base_uri": "https://localhost:8080/"
        },
        "id": "7sQFOfWZRg0r",
        "outputId": "8323ec44-9133-4470-9aa0-d1c5444d4c1c"
      },
      "source": [
        "matrix.ndim"
      ],
      "execution_count": null,
      "outputs": [
        {
          "output_type": "execute_result",
          "data": {
            "text/plain": [
              "2"
            ]
          },
          "metadata": {
            "tags": []
          },
          "execution_count": 7
        }
      ]
    },
    {
      "cell_type": "code",
      "metadata": {
        "colab": {
          "base_uri": "https://localhost:8080/"
        },
        "id": "uMytGb9QRsp8",
        "outputId": "ff11dc25-d8a4-4caf-9681-0ed857e4e79c"
      },
      "source": [
        "# Create another matrix\n",
        "matrix2 = tf.constant([[1.,2.],\n",
        "                       [3.,4.],\n",
        "                       [5.,6.]],dtype = tf.float16)\n",
        "matrix2"
      ],
      "execution_count": null,
      "outputs": [
        {
          "output_type": "execute_result",
          "data": {
            "text/plain": [
              "<tf.Tensor: shape=(3, 2), dtype=float16, numpy=\n",
              "array([[1., 2.],\n",
              "       [3., 4.],\n",
              "       [5., 6.]], dtype=float16)>"
            ]
          },
          "metadata": {
            "tags": []
          },
          "execution_count": 8
        }
      ]
    },
    {
      "cell_type": "code",
      "metadata": {
        "colab": {
          "base_uri": "https://localhost:8080/"
        },
        "id": "OMNRCeesSYmD",
        "outputId": "9ef82134-e54a-4bda-c813-01c7196ad513"
      },
      "source": [
        "# Number of dimensions of matrix2\n",
        "matrix2.ndim"
      ],
      "execution_count": null,
      "outputs": [
        {
          "output_type": "execute_result",
          "data": {
            "text/plain": [
              "2"
            ]
          },
          "metadata": {
            "tags": []
          },
          "execution_count": 9
        }
      ]
    },
    {
      "cell_type": "code",
      "metadata": {
        "colab": {
          "base_uri": "https://localhost:8080/"
        },
        "id": "OqzMoAZPS-r1",
        "outputId": "047a3737-c2a0-474a-9517-b1c8a7c42f0f"
      },
      "source": [
        "# Now it's time to create tensor of our own\n",
        "tensor = tf.constant([[[1,2,3],\n",
        "                       [4,5,6]],\n",
        "                       [[7,8,9],\n",
        "                        [10,11,12]],\n",
        "                      [[13,14,15],\n",
        "                       [16,17,19]]])\n",
        "tensor"
      ],
      "execution_count": null,
      "outputs": [
        {
          "output_type": "execute_result",
          "data": {
            "text/plain": [
              "<tf.Tensor: shape=(3, 2, 3), dtype=int32, numpy=\n",
              "array([[[ 1,  2,  3],\n",
              "        [ 4,  5,  6]],\n",
              "\n",
              "       [[ 7,  8,  9],\n",
              "        [10, 11, 12]],\n",
              "\n",
              "       [[13, 14, 15],\n",
              "        [16, 17, 19]]], dtype=int32)>"
            ]
          },
          "metadata": {
            "tags": []
          },
          "execution_count": 11
        }
      ]
    },
    {
      "cell_type": "code",
      "metadata": {
        "colab": {
          "base_uri": "https://localhost:8080/"
        },
        "id": "P0CX8LK2Tska",
        "outputId": "564b64b1-fb76-462b-ba79-129b5c70ed09"
      },
      "source": [
        "tensor.ndim"
      ],
      "execution_count": null,
      "outputs": [
        {
          "output_type": "execute_result",
          "data": {
            "text/plain": [
              "3"
            ]
          },
          "metadata": {
            "tags": []
          },
          "execution_count": 12
        }
      ]
    },
    {
      "cell_type": "markdown",
      "metadata": {
        "id": "1OFg8eVCT5RK"
      },
      "source": [
        "## What we've created so far\n",
        "* Scalar - A single number\n",
        "* Vector - A number with direction\n",
        "* Matrix - A 2 dimensional array\n",
        "* tensor - An n dimensional array"
      ]
    },
    {
      "cell_type": "markdown",
      "metadata": {
        "id": "oAUNuOIVUXjG"
      },
      "source": [
        "## Creating tensors with tf.Variable"
      ]
    },
    {
      "cell_type": "code",
      "metadata": {
        "id": "2keKDB8QWqjT",
        "colab": {
          "base_uri": "https://localhost:8080/"
        },
        "outputId": "403163c5-0918-4f2b-f347-beaa8df5ccbc"
      },
      "source": [
        "# Creating the above tensors with tf.Variable\n",
        "changable_tensor = tf.Variable([10,3])\n",
        "unchangable_tensor = tf.constant([10,10])\n",
        "changable_tensor,unchangable_tensor"
      ],
      "execution_count": null,
      "outputs": [
        {
          "output_type": "execute_result",
          "data": {
            "text/plain": [
              "(<tf.Variable 'Variable:0' shape=(2,) dtype=int32, numpy=array([10,  3], dtype=int32)>,\n",
              " <tf.Tensor: shape=(2,), dtype=int32, numpy=array([10, 10], dtype=int32)>)"
            ]
          },
          "metadata": {
            "tags": []
          },
          "execution_count": 13
        }
      ]
    },
    {
      "cell_type": "code",
      "metadata": {
        "id": "eL55Q76zXpR-",
        "colab": {
          "base_uri": "https://localhost:8080/"
        },
        "outputId": "122c05a2-1e6f-4cd6-bcfa-731f9a4997a8"
      },
      "source": [
        "# Now inorder to change the values inside the list in changable_tensor use assign\n",
        "changable_tensor[0].assign(7)\n",
        "changable_tensor"
      ],
      "execution_count": null,
      "outputs": [
        {
          "output_type": "execute_result",
          "data": {
            "text/plain": [
              "<tf.Variable 'Variable:0' shape=(2,) dtype=int32, numpy=array([7, 3], dtype=int32)>"
            ]
          },
          "metadata": {
            "tags": []
          },
          "execution_count": 14
        }
      ]
    },
    {
      "cell_type": "code",
      "metadata": {
        "colab": {
          "base_uri": "https://localhost:8080/",
          "height": 313
        },
        "id": "A6IyHid7f2Z_",
        "outputId": "dba7a8d9-0a1f-4864-9c64-940c5cfb74bd"
      },
      "source": [
        "# Let's try this for unchanable_tensor\n",
        "unchangable_tensor[0].assign(11)\n",
        "unchangable_tensor"
      ],
      "execution_count": null,
      "outputs": [
        {
          "output_type": "error",
          "ename": "AttributeError",
          "evalue": "ignored",
          "traceback": [
            "\u001b[0;31m---------------------------------------------------------------------------\u001b[0m",
            "\u001b[0;31mAttributeError\u001b[0m                            Traceback (most recent call last)",
            "\u001b[0;32m<ipython-input-15-5025799d1dbd>\u001b[0m in \u001b[0;36m<module>\u001b[0;34m()\u001b[0m\n\u001b[1;32m      1\u001b[0m \u001b[0;31m# Let's try this for unchanable_tensor\u001b[0m\u001b[0;34m\u001b[0m\u001b[0;34m\u001b[0m\u001b[0;34m\u001b[0m\u001b[0m\n\u001b[0;32m----> 2\u001b[0;31m \u001b[0munchangable_tensor\u001b[0m\u001b[0;34m[\u001b[0m\u001b[0;36m0\u001b[0m\u001b[0;34m]\u001b[0m\u001b[0;34m.\u001b[0m\u001b[0massign\u001b[0m\u001b[0;34m(\u001b[0m\u001b[0;36m11\u001b[0m\u001b[0;34m)\u001b[0m\u001b[0;34m\u001b[0m\u001b[0;34m\u001b[0m\u001b[0m\n\u001b[0m\u001b[1;32m      3\u001b[0m \u001b[0munchangable_tensor\u001b[0m\u001b[0;34m\u001b[0m\u001b[0;34m\u001b[0m\u001b[0m\n",
            "\u001b[0;32m/usr/local/lib/python3.7/dist-packages/tensorflow/python/framework/ops.py\u001b[0m in \u001b[0;36m__getattr__\u001b[0;34m(self, name)\u001b[0m\n\u001b[1;32m    399\u001b[0m         \u001b[0;32mimport\u001b[0m \u001b[0mtensorflow\u001b[0m\u001b[0;34m.\u001b[0m\u001b[0mpython\u001b[0m\u001b[0;34m.\u001b[0m\u001b[0mops\u001b[0m\u001b[0;34m.\u001b[0m\u001b[0mnumpy_ops\u001b[0m\u001b[0;34m.\u001b[0m\u001b[0mnp_config\u001b[0m\u001b[0;34m\u001b[0m\u001b[0;34m\u001b[0m\u001b[0m\n\u001b[1;32m    400\u001b[0m         np_config.enable_numpy_behavior()\"\"\".format(type(self).__name__, name))\n\u001b[0;32m--> 401\u001b[0;31m     \u001b[0mself\u001b[0m\u001b[0;34m.\u001b[0m\u001b[0m__getattribute__\u001b[0m\u001b[0;34m(\u001b[0m\u001b[0mname\u001b[0m\u001b[0;34m)\u001b[0m\u001b[0;34m\u001b[0m\u001b[0;34m\u001b[0m\u001b[0m\n\u001b[0m\u001b[1;32m    402\u001b[0m \u001b[0;34m\u001b[0m\u001b[0m\n\u001b[1;32m    403\u001b[0m   \u001b[0;34m@\u001b[0m\u001b[0mstaticmethod\u001b[0m\u001b[0;34m\u001b[0m\u001b[0;34m\u001b[0m\u001b[0m\n",
            "\u001b[0;31mAttributeError\u001b[0m: 'tensorflow.python.framework.ops.EagerTensor' object has no attribute 'assign'"
          ]
        }
      ]
    },
    {
      "cell_type": "markdown",
      "metadata": {
        "id": "RxitcsDSgDEe"
      },
      "source": [
        "## From the above two examples it is clear that tf.Variable() can be changed whereas tf.constant() cannot be changed"
      ]
    },
    {
      "cell_type": "markdown",
      "metadata": {
        "id": "48ZmO-7ugRa1"
      },
      "source": [
        "### Creating random tensors"
      ]
    },
    {
      "cell_type": "code",
      "metadata": {
        "id": "_Ee1BBUogaMo",
        "colab": {
          "base_uri": "https://localhost:8080/"
        },
        "outputId": "5e848aab-8eac-45f2-830e-5e78ef368a8f"
      },
      "source": [
        "# Create two random(but the same) tensors\n",
        "# from_seed allows us to create a same random numbers without changing\n",
        "random1 = tf.random.Generator.from_seed(42)\n",
        "random1 = random1.normal(shape = (3,2))\n",
        "random2 = tf.random.Generator.from_seed(42)\n",
        "random2 = random2.normal(shape = (3,2))\n",
        "# Here normal stands for a bell shaped curve\n",
        "\n",
        "random1,random2,random1 == random2"
      ],
      "execution_count": null,
      "outputs": [
        {
          "output_type": "execute_result",
          "data": {
            "text/plain": [
              "(<tf.Tensor: shape=(3, 2), dtype=float32, numpy=\n",
              " array([[-0.7565803 , -0.06854702],\n",
              "        [ 0.07595026, -1.2573844 ],\n",
              "        [-0.23193763, -1.8107855 ]], dtype=float32)>,\n",
              " <tf.Tensor: shape=(3, 2), dtype=float32, numpy=\n",
              " array([[-0.7565803 , -0.06854702],\n",
              "        [ 0.07595026, -1.2573844 ],\n",
              "        [-0.23193763, -1.8107855 ]], dtype=float32)>,\n",
              " <tf.Tensor: shape=(3, 2), dtype=bool, numpy=\n",
              " array([[ True,  True],\n",
              "        [ True,  True],\n",
              "        [ True,  True]])>)"
            ]
          },
          "metadata": {
            "tags": []
          },
          "execution_count": 16
        }
      ]
    },
    {
      "cell_type": "markdown",
      "metadata": {
        "id": "s2-czouPjita"
      },
      "source": [
        "## How to shuffle the order of elements in tensor?"
      ]
    },
    {
      "cell_type": "code",
      "metadata": {
        "id": "6FDrN6CskFBl",
        "colab": {
          "base_uri": "https://localhost:8080/"
        },
        "outputId": "8a747b0d-0724-4be0-9abc-48083b996e30"
      },
      "source": [
        "# This method is useful when we need to shuffle our data\n",
        "not_shuffled = tf.constant([[1,2],\n",
        "                            [3,4],\n",
        "                            [5,6]])\n",
        "not_shuffled"
      ],
      "execution_count": null,
      "outputs": [
        {
          "output_type": "execute_result",
          "data": {
            "text/plain": [
              "<tf.Tensor: shape=(3, 2), dtype=int32, numpy=\n",
              "array([[1, 2],\n",
              "       [3, 4],\n",
              "       [5, 6]], dtype=int32)>"
            ]
          },
          "metadata": {
            "tags": []
          },
          "execution_count": 17
        }
      ]
    },
    {
      "cell_type": "code",
      "metadata": {
        "id": "k0PWzRJ0lPTN",
        "colab": {
          "base_uri": "https://localhost:8080/"
        },
        "outputId": "4bb2a6db-9608-40b4-9ec9-5a32ae5a4836"
      },
      "source": [
        "tf.random.shuffle(not_shuffled)\n",
        "# Whenever you run this cell again and again the 1st dimension items get shuffled\n",
        "# Again and again and we don't want that so we're going to use set_seed method"
      ],
      "execution_count": null,
      "outputs": [
        {
          "output_type": "execute_result",
          "data": {
            "text/plain": [
              "<tf.Tensor: shape=(3, 2), dtype=int32, numpy=\n",
              "array([[3, 4],\n",
              "       [1, 2],\n",
              "       [5, 6]], dtype=int32)>"
            ]
          },
          "metadata": {
            "tags": []
          },
          "execution_count": 18
        }
      ]
    },
    {
      "cell_type": "code",
      "metadata": {
        "id": "unLgYLFwlUFW",
        "colab": {
          "base_uri": "https://localhost:8080/"
        },
        "outputId": "2ce77440-e9a2-41dc-9a27-7f6a1074093a"
      },
      "source": [
        "tf.random.set_seed(42)\n",
        "tf.random.shuffle(not_shuffled)\n",
        "# And here we go the items didn't get shuffled when we write again and again"
      ],
      "execution_count": null,
      "outputs": [
        {
          "output_type": "execute_result",
          "data": {
            "text/plain": [
              "<tf.Tensor: shape=(3, 2), dtype=int32, numpy=\n",
              "array([[3, 4],\n",
              "       [5, 6],\n",
              "       [1, 2]], dtype=int32)>"
            ]
          },
          "metadata": {
            "tags": []
          },
          "execution_count": 20
        }
      ]
    },
    {
      "cell_type": "code",
      "metadata": {
        "id": "ANen-5s2mqxA",
        "colab": {
          "base_uri": "https://localhost:8080/"
        },
        "outputId": "8a74166e-b503-4c9f-9309-fe23e6f47c64"
      },
      "source": [
        "tf.random.set_seed(42) # Global level random seed\n",
        "tf.random.shuffle(not_shuffled,seed = 42) # Operation level random seed"
      ],
      "execution_count": null,
      "outputs": [
        {
          "output_type": "execute_result",
          "data": {
            "text/plain": [
              "<tf.Tensor: shape=(3, 2), dtype=int32, numpy=\n",
              "array([[1, 2],\n",
              "       [3, 4],\n",
              "       [5, 6]], dtype=int32)>"
            ]
          },
          "metadata": {
            "tags": []
          },
          "execution_count": 26
        }
      ]
    },
    {
      "cell_type": "markdown",
      "metadata": {
        "id": "AC4sd_n2DvBU"
      },
      "source": [
        "## Other way to make tensors"
      ]
    },
    {
      "cell_type": "code",
      "metadata": {
        "id": "WcnTCyfGEMy6",
        "colab": {
          "base_uri": "https://localhost:8080/"
        },
        "outputId": "daa6282a-a31d-49d8-f4e9-3835bb0ad1b6"
      },
      "source": [
        "## tensor ones\n",
        "ones = tf.ones(shape = (3,4))\n",
        "ones"
      ],
      "execution_count": null,
      "outputs": [
        {
          "output_type": "execute_result",
          "data": {
            "text/plain": [
              "<tf.Tensor: shape=(3, 4), dtype=float32, numpy=\n",
              "array([[1., 1., 1., 1.],\n",
              "       [1., 1., 1., 1.],\n",
              "       [1., 1., 1., 1.]], dtype=float32)>"
            ]
          },
          "metadata": {
            "tags": []
          },
          "execution_count": 27
        }
      ]
    },
    {
      "cell_type": "code",
      "metadata": {
        "id": "FhDjjCSk0L-L",
        "colab": {
          "base_uri": "https://localhost:8080/"
        },
        "outputId": "dbd87274-a396-47f3-fbd0-e174d8dfdf5d"
      },
      "source": [
        "## tensor zeros\n",
        "zeros = tf.zeros(shape = (5,5))\n",
        "zeros"
      ],
      "execution_count": null,
      "outputs": [
        {
          "output_type": "execute_result",
          "data": {
            "text/plain": [
              "<tf.Tensor: shape=(5, 5), dtype=float32, numpy=\n",
              "array([[0., 0., 0., 0., 0.],\n",
              "       [0., 0., 0., 0., 0.],\n",
              "       [0., 0., 0., 0., 0.],\n",
              "       [0., 0., 0., 0., 0.],\n",
              "       [0., 0., 0., 0., 0.]], dtype=float32)>"
            ]
          },
          "metadata": {
            "tags": []
          },
          "execution_count": 28
        }
      ]
    },
    {
      "cell_type": "markdown",
      "metadata": {
        "id": "moJK3_YG0Tmw"
      },
      "source": [
        "# Turning Numpy arrays into tensors"
      ]
    },
    {
      "cell_type": "code",
      "metadata": {
        "id": "Qu-unxVa002t",
        "colab": {
          "base_uri": "https://localhost:8080/"
        },
        "outputId": "db43cd1c-8f71-46e6-a762-dea5e06c3f5f"
      },
      "source": [
        "import numpy as np\n",
        "numpy_A = np.arange(1,25,dtype = np.int32)\n",
        "numpy_A"
      ],
      "execution_count": null,
      "outputs": [
        {
          "output_type": "execute_result",
          "data": {
            "text/plain": [
              "array([ 1,  2,  3,  4,  5,  6,  7,  8,  9, 10, 11, 12, 13, 14, 15, 16, 17,\n",
              "       18, 19, 20, 21, 22, 23, 24], dtype=int32)"
            ]
          },
          "metadata": {
            "tags": []
          },
          "execution_count": 29
        }
      ]
    },
    {
      "cell_type": "code",
      "metadata": {
        "id": "4367rX3q0-x3",
        "colab": {
          "base_uri": "https://localhost:8080/"
        },
        "outputId": "a554f007-2dd3-46c7-ac12-b541903839e6"
      },
      "source": [
        "# Now change the above numpy into tensor\n",
        "tens_A = tf.constant(numpy_A)\n",
        "tens_A"
      ],
      "execution_count": null,
      "outputs": [
        {
          "output_type": "execute_result",
          "data": {
            "text/plain": [
              "<tf.Tensor: shape=(24,), dtype=int32, numpy=\n",
              "array([ 1,  2,  3,  4,  5,  6,  7,  8,  9, 10, 11, 12, 13, 14, 15, 16, 17,\n",
              "       18, 19, 20, 21, 22, 23, 24], dtype=int32)>"
            ]
          },
          "metadata": {
            "tags": []
          },
          "execution_count": 30
        }
      ]
    },
    {
      "cell_type": "code",
      "metadata": {
        "id": "dKrntbh-1IeU",
        "colab": {
          "base_uri": "https://localhost:8080/"
        },
        "outputId": "e04bf861-6ed7-489c-88e7-4071d300d198"
      },
      "source": [
        "tens_B = tf.constant(numpy_A,shape=(6,4))\n",
        "tens_B"
      ],
      "execution_count": null,
      "outputs": [
        {
          "output_type": "execute_result",
          "data": {
            "text/plain": [
              "<tf.Tensor: shape=(6, 4), dtype=int32, numpy=\n",
              "array([[ 1,  2,  3,  4],\n",
              "       [ 5,  6,  7,  8],\n",
              "       [ 9, 10, 11, 12],\n",
              "       [13, 14, 15, 16],\n",
              "       [17, 18, 19, 20],\n",
              "       [21, 22, 23, 24]], dtype=int32)>"
            ]
          },
          "metadata": {
            "tags": []
          },
          "execution_count": 31
        }
      ]
    },
    {
      "cell_type": "code",
      "metadata": {
        "id": "nKzrx4DU1S21",
        "colab": {
          "base_uri": "https://localhost:8080/"
        },
        "outputId": "02c149fc-73a1-4416-a74c-015511ecd93c"
      },
      "source": [
        "tens_C = tf.constant(numpy_A,shape = (3,2,4))\n",
        "tens_C"
      ],
      "execution_count": null,
      "outputs": [
        {
          "output_type": "execute_result",
          "data": {
            "text/plain": [
              "<tf.Tensor: shape=(3, 2, 4), dtype=int32, numpy=\n",
              "array([[[ 1,  2,  3,  4],\n",
              "        [ 5,  6,  7,  8]],\n",
              "\n",
              "       [[ 9, 10, 11, 12],\n",
              "        [13, 14, 15, 16]],\n",
              "\n",
              "       [[17, 18, 19, 20],\n",
              "        [21, 22, 23, 24]]], dtype=int32)>"
            ]
          },
          "metadata": {
            "tags": []
          },
          "execution_count": 33
        }
      ]
    },
    {
      "cell_type": "markdown",
      "metadata": {
        "id": "WN6yEi6U1b60"
      },
      "source": [
        "# ✨✨ Getting information from our tensors\n",
        "* Shape\n",
        "* Rank\n",
        "* Axis or Dimension\n",
        "* Size"
      ]
    },
    {
      "cell_type": "code",
      "metadata": {
        "id": "ggPkZIhj1qVf",
        "colab": {
          "base_uri": "https://localhost:8080/"
        },
        "outputId": "3ee1735c-3ea9-449e-e809-b44ffe32f961"
      },
      "source": [
        "# Create a rank 4 tensor (4 dimension tensor)\n",
        "rank4_tensor = tf.zeros(shape = (2,3,4,5))\n",
        "rank4_tensor"
      ],
      "execution_count": null,
      "outputs": [
        {
          "output_type": "execute_result",
          "data": {
            "text/plain": [
              "<tf.Tensor: shape=(2, 3, 4, 5), dtype=float32, numpy=\n",
              "array([[[[0., 0., 0., 0., 0.],\n",
              "         [0., 0., 0., 0., 0.],\n",
              "         [0., 0., 0., 0., 0.],\n",
              "         [0., 0., 0., 0., 0.]],\n",
              "\n",
              "        [[0., 0., 0., 0., 0.],\n",
              "         [0., 0., 0., 0., 0.],\n",
              "         [0., 0., 0., 0., 0.],\n",
              "         [0., 0., 0., 0., 0.]],\n",
              "\n",
              "        [[0., 0., 0., 0., 0.],\n",
              "         [0., 0., 0., 0., 0.],\n",
              "         [0., 0., 0., 0., 0.],\n",
              "         [0., 0., 0., 0., 0.]]],\n",
              "\n",
              "\n",
              "       [[[0., 0., 0., 0., 0.],\n",
              "         [0., 0., 0., 0., 0.],\n",
              "         [0., 0., 0., 0., 0.],\n",
              "         [0., 0., 0., 0., 0.]],\n",
              "\n",
              "        [[0., 0., 0., 0., 0.],\n",
              "         [0., 0., 0., 0., 0.],\n",
              "         [0., 0., 0., 0., 0.],\n",
              "         [0., 0., 0., 0., 0.]],\n",
              "\n",
              "        [[0., 0., 0., 0., 0.],\n",
              "         [0., 0., 0., 0., 0.],\n",
              "         [0., 0., 0., 0., 0.],\n",
              "         [0., 0., 0., 0., 0.]]]], dtype=float32)>"
            ]
          },
          "metadata": {
            "tags": []
          },
          "execution_count": 34
        }
      ]
    },
    {
      "cell_type": "code",
      "metadata": {
        "id": "cjN3WntP2p41",
        "colab": {
          "base_uri": "https://localhost:8080/"
        },
        "outputId": "9364cee6-3d5f-4931-8552-7248bfed444f"
      },
      "source": [
        "rank4_tensor[0]"
      ],
      "execution_count": null,
      "outputs": [
        {
          "output_type": "execute_result",
          "data": {
            "text/plain": [
              "<tf.Tensor: shape=(3, 4, 5), dtype=float32, numpy=\n",
              "array([[[0., 0., 0., 0., 0.],\n",
              "        [0., 0., 0., 0., 0.],\n",
              "        [0., 0., 0., 0., 0.],\n",
              "        [0., 0., 0., 0., 0.]],\n",
              "\n",
              "       [[0., 0., 0., 0., 0.],\n",
              "        [0., 0., 0., 0., 0.],\n",
              "        [0., 0., 0., 0., 0.],\n",
              "        [0., 0., 0., 0., 0.]],\n",
              "\n",
              "       [[0., 0., 0., 0., 0.],\n",
              "        [0., 0., 0., 0., 0.],\n",
              "        [0., 0., 0., 0., 0.],\n",
              "        [0., 0., 0., 0., 0.]]], dtype=float32)>"
            ]
          },
          "metadata": {
            "tags": []
          },
          "execution_count": 35
        }
      ]
    },
    {
      "cell_type": "code",
      "metadata": {
        "id": "uXBkdpfa3IGl",
        "colab": {
          "base_uri": "https://localhost:8080/"
        },
        "outputId": "37efd0ea-0e0d-45f1-a3b7-fe951041bae9"
      },
      "source": [
        "rank4_tensor.shape,rank4_tensor.ndim,tf.size(rank4_tensor)"
      ],
      "execution_count": null,
      "outputs": [
        {
          "output_type": "execute_result",
          "data": {
            "text/plain": [
              "(TensorShape([2, 3, 4, 5]), 4, <tf.Tensor: shape=(), dtype=int32, numpy=120>)"
            ]
          },
          "metadata": {
            "tags": []
          },
          "execution_count": 36
        }
      ]
    },
    {
      "cell_type": "code",
      "metadata": {
        "id": "DxoiYTsb3Vlw",
        "colab": {
          "base_uri": "https://localhost:8080/"
        },
        "outputId": "9741a085-69e4-48b9-c07c-80058a800eea"
      },
      "source": [
        "# Getting various attributes of our tensor\n",
        "print(\"Datatype of every element:\",rank4_tensor.dtype)\n",
        "print(\"Number of dimension(rank):\",rank4_tensor.ndim)\n",
        "print(\"Shape of tensor: \",rank4_tensor.shape)\n",
        "print(\"Element along the 0th axis:\",rank4_tensor.shape[0])\n",
        "print(\"Element along the last axis:\",rank4_tensor.shape[-1])\n",
        "print(\"Total number of elements in our tensor:\",tf.size(rank4_tensor).numpy())"
      ],
      "execution_count": null,
      "outputs": [
        {
          "output_type": "stream",
          "text": [
            "Datatype of every element: <dtype: 'float32'>\n",
            "Number of dimension(rank): 4\n",
            "Shape of tensor:  (2, 3, 4, 5)\n",
            "Element along the 0th axis: 2\n",
            "Element along the last axis: 5\n",
            "Total number of elements in our tensor: 120\n"
          ],
          "name": "stdout"
        }
      ]
    },
    {
      "cell_type": "markdown",
      "metadata": {
        "id": "4b8mKzXS4_si"
      },
      "source": [
        "## Indexing Tensors\n",
        "Tensors can be Indexed just like python lists"
      ]
    },
    {
      "cell_type": "code",
      "metadata": {
        "id": "d2fIYCuX6kxF",
        "colab": {
          "base_uri": "https://localhost:8080/"
        },
        "outputId": "2431a74a-e6c6-4e06-cde1-237704d4535d"
      },
      "source": [
        "# Get the first 2 elements of each dimension\n",
        "rank4_tensor[:2,:2,:2,:2]"
      ],
      "execution_count": null,
      "outputs": [
        {
          "output_type": "execute_result",
          "data": {
            "text/plain": [
              "<tf.Tensor: shape=(2, 2, 2, 2), dtype=float32, numpy=\n",
              "array([[[[0., 0.],\n",
              "         [0., 0.]],\n",
              "\n",
              "        [[0., 0.],\n",
              "         [0., 0.]]],\n",
              "\n",
              "\n",
              "       [[[0., 0.],\n",
              "         [0., 0.]],\n",
              "\n",
              "        [[0., 0.],\n",
              "         [0., 0.]]]], dtype=float32)>"
            ]
          },
          "metadata": {
            "tags": []
          },
          "execution_count": 38
        }
      ]
    },
    {
      "cell_type": "code",
      "metadata": {
        "id": "vbiyU12N6--y",
        "colab": {
          "base_uri": "https://localhost:8080/"
        },
        "outputId": "80de33b7-5059-4b16-c927-815703ceae5b"
      },
      "source": [
        "# Get the first element from each dimension from each index except the final one\n",
        "rank4_tensor[:1,:1,:1] # Leave the last one"
      ],
      "execution_count": null,
      "outputs": [
        {
          "output_type": "execute_result",
          "data": {
            "text/plain": [
              "<tf.Tensor: shape=(1, 1, 1, 5), dtype=float32, numpy=array([[[[0., 0., 0., 0., 0.]]]], dtype=float32)>"
            ]
          },
          "metadata": {
            "tags": []
          },
          "execution_count": 39
        }
      ]
    },
    {
      "cell_type": "code",
      "metadata": {
        "id": "JoJZOg687xZB",
        "colab": {
          "base_uri": "https://localhost:8080/"
        },
        "outputId": "649eb031-8356-4eb2-be20-fb33d5d5c67e"
      },
      "source": [
        "rank4_tensor[:1,:1,:,:1]"
      ],
      "execution_count": null,
      "outputs": [
        {
          "output_type": "execute_result",
          "data": {
            "text/plain": [
              "<tf.Tensor: shape=(1, 1, 4, 1), dtype=float32, numpy=\n",
              "array([[[[0.],\n",
              "         [0.],\n",
              "         [0.],\n",
              "         [0.]]]], dtype=float32)>"
            ]
          },
          "metadata": {
            "tags": []
          },
          "execution_count": 40
        }
      ]
    },
    {
      "cell_type": "code",
      "metadata": {
        "id": "XArJOcDB71Vo",
        "colab": {
          "base_uri": "https://localhost:8080/"
        },
        "outputId": "031d4563-0553-4c7b-90ac-61260d8fe7f1"
      },
      "source": [
        "rank4_tensor[:1,:,:1,:1]"
      ],
      "execution_count": null,
      "outputs": [
        {
          "output_type": "execute_result",
          "data": {
            "text/plain": [
              "<tf.Tensor: shape=(1, 3, 1, 1), dtype=float32, numpy=\n",
              "array([[[[0.]],\n",
              "\n",
              "        [[0.]],\n",
              "\n",
              "        [[0.]]]], dtype=float32)>"
            ]
          },
          "metadata": {
            "tags": []
          },
          "execution_count": 41
        }
      ]
    },
    {
      "cell_type": "code",
      "metadata": {
        "id": "OxuwLN3778CH",
        "colab": {
          "base_uri": "https://localhost:8080/"
        },
        "outputId": "450d76d8-ca9a-4ccb-bd9e-508513401977"
      },
      "source": [
        "rank4_tensor[:,:1,:1,:1]"
      ],
      "execution_count": null,
      "outputs": [
        {
          "output_type": "execute_result",
          "data": {
            "text/plain": [
              "<tf.Tensor: shape=(2, 1, 1, 1), dtype=float32, numpy=\n",
              "array([[[[0.]]],\n",
              "\n",
              "\n",
              "       [[[0.]]]], dtype=float32)>"
            ]
          },
          "metadata": {
            "tags": []
          },
          "execution_count": 42
        }
      ]
    },
    {
      "cell_type": "code",
      "metadata": {
        "id": "qjYsoPDu7-wA",
        "colab": {
          "base_uri": "https://localhost:8080/"
        },
        "outputId": "e1e10d1e-e0c3-4adb-841b-988f3abd75d4"
      },
      "source": [
        "## Creating a rank2 tensor\n",
        "rank2_tensor = tf.constant([[2,4],\n",
        "                           [5,6]])\n",
        "rank2_tensor"
      ],
      "execution_count": null,
      "outputs": [
        {
          "output_type": "execute_result",
          "data": {
            "text/plain": [
              "<tf.Tensor: shape=(2, 2), dtype=int32, numpy=\n",
              "array([[2, 4],\n",
              "       [5, 6]], dtype=int32)>"
            ]
          },
          "metadata": {
            "tags": []
          },
          "execution_count": 43
        }
      ]
    },
    {
      "cell_type": "code",
      "metadata": {
        "id": "8-Y12Er88Wni",
        "colab": {
          "base_uri": "https://localhost:8080/"
        },
        "outputId": "2702b987-62f3-452b-9a0a-ec0553c7738b"
      },
      "source": [
        "# Get the last item of each row\n",
        "rank2_tensor[:,-1]"
      ],
      "execution_count": null,
      "outputs": [
        {
          "output_type": "execute_result",
          "data": {
            "text/plain": [
              "<tf.Tensor: shape=(2,), dtype=int32, numpy=array([4, 6], dtype=int32)>"
            ]
          },
          "metadata": {
            "tags": []
          },
          "execution_count": 44
        }
      ]
    },
    {
      "cell_type": "code",
      "metadata": {
        "id": "ahMqth_-89ur",
        "colab": {
          "base_uri": "https://localhost:8080/"
        },
        "outputId": "f8ae2ddd-f1ca-459d-fd9f-e3d74a2f8089"
      },
      "source": [
        "rank3_tensor = rank2_tensor[...,tf.newaxis]\n",
        "rank3_tensor"
      ],
      "execution_count": null,
      "outputs": [
        {
          "output_type": "execute_result",
          "data": {
            "text/plain": [
              "<tf.Tensor: shape=(2, 2, 1), dtype=int32, numpy=\n",
              "array([[[2],\n",
              "        [4]],\n",
              "\n",
              "       [[5],\n",
              "        [6]]], dtype=int32)>"
            ]
          },
          "metadata": {
            "tags": []
          },
          "execution_count": 45
        }
      ]
    },
    {
      "cell_type": "code",
      "metadata": {
        "id": "-eJTxQj09j4x",
        "colab": {
          "base_uri": "https://localhost:8080/"
        },
        "outputId": "c324b119-5c17-472c-c0c6-d30b47e5c82e"
      },
      "source": [
        "# Alternative to tf.newaxis\n",
        "tf.expand_dims(rank2_tensor,axis = -1) # -1 means the final axis"
      ],
      "execution_count": null,
      "outputs": [
        {
          "output_type": "execute_result",
          "data": {
            "text/plain": [
              "<tf.Tensor: shape=(2, 2, 1), dtype=int32, numpy=\n",
              "array([[[2],\n",
              "        [4]],\n",
              "\n",
              "       [[5],\n",
              "        [6]]], dtype=int32)>"
            ]
          },
          "metadata": {
            "tags": []
          },
          "execution_count": 46
        }
      ]
    },
    {
      "cell_type": "markdown",
      "metadata": {
        "id": "0Lsj2Q5I_Y0r"
      },
      "source": [
        "## Manipulating Tensors\n",
        "**Basic Operations**\n",
        "* Addition\n",
        "* Subtraction\n",
        "* Multiplication\n",
        "* Division"
      ]
    },
    {
      "cell_type": "code",
      "metadata": {
        "id": "XocyzTtVuqX-"
      },
      "source": [
        "tensor = tf.constant([[10,22],\n",
        "                      [98,9]])"
      ],
      "execution_count": null,
      "outputs": []
    },
    {
      "cell_type": "code",
      "metadata": {
        "id": "iLh6FlktuyQl",
        "colab": {
          "base_uri": "https://localhost:8080/"
        },
        "outputId": "f6be21cb-5c8a-42e3-bc4c-2c0c48815dd2"
      },
      "source": [
        "tensor+10"
      ],
      "execution_count": null,
      "outputs": [
        {
          "output_type": "execute_result",
          "data": {
            "text/plain": [
              "<tf.Tensor: shape=(2, 2), dtype=int32, numpy=\n",
              "array([[ 20,  32],\n",
              "       [108,  19]], dtype=int32)>"
            ]
          },
          "metadata": {
            "tags": []
          },
          "execution_count": 48
        }
      ]
    },
    {
      "cell_type": "code",
      "metadata": {
        "id": "VfsfCVfQuzZG",
        "colab": {
          "base_uri": "https://localhost:8080/"
        },
        "outputId": "39d4d9e7-4def-49c5-8a0a-12f57f15328b"
      },
      "source": [
        "tensor\n",
        "# Here the original tensor remains unchanged"
      ],
      "execution_count": null,
      "outputs": [
        {
          "output_type": "execute_result",
          "data": {
            "text/plain": [
              "<tf.Tensor: shape=(2, 2), dtype=int32, numpy=\n",
              "array([[10, 22],\n",
              "       [98,  9]], dtype=int32)>"
            ]
          },
          "metadata": {
            "tags": []
          },
          "execution_count": 49
        }
      ]
    },
    {
      "cell_type": "markdown",
      "metadata": {
        "id": "aqFeSlchu_gM"
      },
      "source": [
        "## Like this we can use any operation"
      ]
    },
    {
      "cell_type": "code",
      "metadata": {
        "id": "wRbG_PsTvG4Z",
        "colab": {
          "base_uri": "https://localhost:8080/"
        },
        "outputId": "2c66514a-971e-4b9a-ed46-09754b661f48"
      },
      "source": [
        "# we can use the tensorflow built in functions too\n",
        "tf.multiply(tensor,3)"
      ],
      "execution_count": null,
      "outputs": [
        {
          "output_type": "execute_result",
          "data": {
            "text/plain": [
              "<tf.Tensor: shape=(2, 2), dtype=int32, numpy=\n",
              "array([[ 30,  66],\n",
              "       [294,  27]], dtype=int32)>"
            ]
          },
          "metadata": {
            "tags": []
          },
          "execution_count": 50
        }
      ]
    },
    {
      "cell_type": "markdown",
      "metadata": {
        "id": "S3wY0wrgwb_Q"
      },
      "source": [
        "## Matrix Multiplication\n",
        "In Machine learning matrix multiplication is one of the common topic"
      ]
    },
    {
      "cell_type": "code",
      "metadata": {
        "id": "8_xs8q5rxJih",
        "colab": {
          "base_uri": "https://localhost:8080/"
        },
        "outputId": "e7f495ef-3333-4ea5-8fd7-458069165a71"
      },
      "source": [
        "# Matrix multiplicaton in TensorFlow\n",
        "print(tensor)"
      ],
      "execution_count": null,
      "outputs": [
        {
          "output_type": "stream",
          "text": [
            "tf.Tensor(\n",
            "[[10 22]\n",
            " [98  9]], shape=(2, 2), dtype=int32)\n"
          ],
          "name": "stdout"
        }
      ]
    },
    {
      "cell_type": "code",
      "metadata": {
        "id": "FeM9EeZext8P",
        "colab": {
          "base_uri": "https://localhost:8080/"
        },
        "outputId": "68851e89-8022-44ea-a8a8-0c36562bf698"
      },
      "source": [
        "tf.matmul(tensor,tensor)"
      ],
      "execution_count": null,
      "outputs": [
        {
          "output_type": "execute_result",
          "data": {
            "text/plain": [
              "<tf.Tensor: shape=(2, 2), dtype=int32, numpy=\n",
              "array([[2256,  418],\n",
              "       [1862, 2237]], dtype=int32)>"
            ]
          },
          "metadata": {
            "tags": []
          },
          "execution_count": 52
        }
      ]
    },
    {
      "cell_type": "code",
      "metadata": {
        "id": "qTJWgMcWx--p",
        "colab": {
          "base_uri": "https://localhost:8080/"
        },
        "outputId": "6e36609a-a51e-4055-a578-c5bcabdf5933"
      },
      "source": [
        "a = tf.constant([[1,2,5],\n",
        "                  [7,2,1],\n",
        "                  [3,3,3]])\n",
        "a"
      ],
      "execution_count": null,
      "outputs": [
        {
          "output_type": "execute_result",
          "data": {
            "text/plain": [
              "<tf.Tensor: shape=(3, 3), dtype=int32, numpy=\n",
              "array([[1, 2, 5],\n",
              "       [7, 2, 1],\n",
              "       [3, 3, 3]], dtype=int32)>"
            ]
          },
          "metadata": {
            "tags": []
          },
          "execution_count": 53
        }
      ]
    },
    {
      "cell_type": "code",
      "metadata": {
        "id": "zrEeSFTuyZRV"
      },
      "source": [
        "b = tf.constant([[3,5],\n",
        "                 [6,7],\n",
        "                 [1,8]])"
      ],
      "execution_count": null,
      "outputs": []
    },
    {
      "cell_type": "code",
      "metadata": {
        "id": "6_1TcG9rygq1",
        "colab": {
          "base_uri": "https://localhost:8080/"
        },
        "outputId": "d21719ad-2e2e-41f9-a41a-52f433f4b288"
      },
      "source": [
        "# Multiply a & b using matrix multiplication\n",
        "c = tf.matmul(a,b)\n",
        "print(c)"
      ],
      "execution_count": null,
      "outputs": [
        {
          "output_type": "stream",
          "text": [
            "tf.Tensor(\n",
            "[[20 59]\n",
            " [34 57]\n",
            " [30 60]], shape=(3, 2), dtype=int32)\n"
          ],
          "name": "stdout"
        }
      ]
    },
    {
      "cell_type": "code",
      "metadata": {
        "id": "mHnvl_rEynCy",
        "colab": {
          "base_uri": "https://localhost:8080/"
        },
        "outputId": "889503fd-7091-48d7-b842-d9c498853bed"
      },
      "source": [
        "# Matrix Multiplication with python operator\n",
        "a @ b"
      ],
      "execution_count": null,
      "outputs": [
        {
          "output_type": "execute_result",
          "data": {
            "text/plain": [
              "<tf.Tensor: shape=(3, 2), dtype=int32, numpy=\n",
              "array([[20, 59],\n",
              "       [34, 57],\n",
              "       [30, 60]], dtype=int32)>"
            ]
          },
          "metadata": {
            "tags": []
          },
          "execution_count": 56
        }
      ]
    },
    {
      "cell_type": "code",
      "metadata": {
        "id": "qB2DzFgSy4lD",
        "colab": {
          "base_uri": "https://localhost:8080/"
        },
        "outputId": "37c33af3-5b4d-4d29-9113-e2192eadce2e"
      },
      "source": [
        "# Try to multiply these two matrices of size (3,2)\n",
        "a1 = tf.constant([[1,2],\n",
        "                  [3,4],\n",
        "                  [5,6]])\n",
        "a1"
      ],
      "execution_count": null,
      "outputs": [
        {
          "output_type": "execute_result",
          "data": {
            "text/plain": [
              "<tf.Tensor: shape=(3, 2), dtype=int32, numpy=\n",
              "array([[1, 2],\n",
              "       [3, 4],\n",
              "       [5, 6]], dtype=int32)>"
            ]
          },
          "metadata": {
            "tags": []
          },
          "execution_count": 57
        }
      ]
    },
    {
      "cell_type": "code",
      "metadata": {
        "id": "sPp8omgWzVpv",
        "colab": {
          "base_uri": "https://localhost:8080/"
        },
        "outputId": "8c7d641c-721e-40a8-9821-74277ae622d1"
      },
      "source": [
        "a2 = tf.constant([[7,8],\n",
        "                  [9,10],\n",
        "                  [11,12]])\n",
        "a2"
      ],
      "execution_count": null,
      "outputs": [
        {
          "output_type": "execute_result",
          "data": {
            "text/plain": [
              "<tf.Tensor: shape=(3, 2), dtype=int32, numpy=\n",
              "array([[ 7,  8],\n",
              "       [ 9, 10],\n",
              "       [11, 12]], dtype=int32)>"
            ]
          },
          "metadata": {
            "tags": []
          },
          "execution_count": 58
        }
      ]
    },
    {
      "cell_type": "code",
      "metadata": {
        "id": "N2p62I2Jzb0E",
        "colab": {
          "base_uri": "https://localhost:8080/",
          "height": 236
        },
        "outputId": "90060b02-9070-4711-b441-0decb55483a0"
      },
      "source": [
        "# try to multiply two matrices of size (3,2) and (3,2)\n",
        "a1 @ a2"
      ],
      "execution_count": null,
      "outputs": [
        {
          "output_type": "error",
          "ename": "InvalidArgumentError",
          "evalue": "ignored",
          "traceback": [
            "\u001b[0;31m---------------------------------------------------------------------------\u001b[0m",
            "\u001b[0;31mInvalidArgumentError\u001b[0m                      Traceback (most recent call last)",
            "\u001b[0;32m<ipython-input-59-8ec25f0947c5>\u001b[0m in \u001b[0;36m<module>\u001b[0;34m()\u001b[0m\n\u001b[1;32m      1\u001b[0m \u001b[0;31m# try to multiply two matrices of size (3,2) and (3,2)\u001b[0m\u001b[0;34m\u001b[0m\u001b[0;34m\u001b[0m\u001b[0;34m\u001b[0m\u001b[0m\n\u001b[0;32m----> 2\u001b[0;31m \u001b[0ma1\u001b[0m \u001b[0;34m@\u001b[0m \u001b[0ma2\u001b[0m\u001b[0;34m\u001b[0m\u001b[0;34m\u001b[0m\u001b[0m\n\u001b[0m",
            "\u001b[0;32m/usr/local/lib/python3.7/dist-packages/tensorflow/python/ops/math_ops.py\u001b[0m in \u001b[0;36mbinary_op_wrapper\u001b[0;34m(x, y)\u001b[0m\n\u001b[1;32m   1232\u001b[0m         \u001b[0;31m#   r_binary_op_wrapper use different force_same_dtype values.\u001b[0m\u001b[0;34m\u001b[0m\u001b[0;34m\u001b[0m\u001b[0;34m\u001b[0m\u001b[0m\n\u001b[1;32m   1233\u001b[0m         \u001b[0mx\u001b[0m\u001b[0;34m,\u001b[0m \u001b[0my\u001b[0m \u001b[0;34m=\u001b[0m \u001b[0mmaybe_promote_tensors\u001b[0m\u001b[0;34m(\u001b[0m\u001b[0mx\u001b[0m\u001b[0;34m,\u001b[0m \u001b[0my\u001b[0m\u001b[0;34m,\u001b[0m \u001b[0mforce_same_dtype\u001b[0m\u001b[0;34m=\u001b[0m\u001b[0;32mFalse\u001b[0m\u001b[0;34m)\u001b[0m\u001b[0;34m\u001b[0m\u001b[0;34m\u001b[0m\u001b[0m\n\u001b[0;32m-> 1234\u001b[0;31m         \u001b[0;32mreturn\u001b[0m \u001b[0mfunc\u001b[0m\u001b[0;34m(\u001b[0m\u001b[0mx\u001b[0m\u001b[0;34m,\u001b[0m \u001b[0my\u001b[0m\u001b[0;34m,\u001b[0m \u001b[0mname\u001b[0m\u001b[0;34m=\u001b[0m\u001b[0mname\u001b[0m\u001b[0;34m)\u001b[0m\u001b[0;34m\u001b[0m\u001b[0;34m\u001b[0m\u001b[0m\n\u001b[0m\u001b[1;32m   1235\u001b[0m       \u001b[0;32mexcept\u001b[0m \u001b[0;34m(\u001b[0m\u001b[0mTypeError\u001b[0m\u001b[0;34m,\u001b[0m \u001b[0mValueError\u001b[0m\u001b[0;34m)\u001b[0m \u001b[0;32mas\u001b[0m \u001b[0me\u001b[0m\u001b[0;34m:\u001b[0m\u001b[0;34m\u001b[0m\u001b[0;34m\u001b[0m\u001b[0m\n\u001b[1;32m   1236\u001b[0m         \u001b[0;31m# Even if dispatching the op failed, the RHS may be a tensor aware\u001b[0m\u001b[0;34m\u001b[0m\u001b[0;34m\u001b[0m\u001b[0;34m\u001b[0m\u001b[0m\n",
            "\u001b[0;32m/usr/local/lib/python3.7/dist-packages/tensorflow/python/ops/math_ops.py\u001b[0m in \u001b[0;36mmatmul_wrapper\u001b[0;34m(a, b, name)\u001b[0m\n\u001b[1;32m   3596\u001b[0m   \u001b[0;32mif\u001b[0m \u001b[0mops\u001b[0m\u001b[0;34m.\u001b[0m\u001b[0m_numpy_style_type_promotion\u001b[0m\u001b[0;34m:\u001b[0m\u001b[0;34m\u001b[0m\u001b[0;34m\u001b[0m\u001b[0m\n\u001b[1;32m   3597\u001b[0m     \u001b[0;32mreturn\u001b[0m \u001b[0ma\u001b[0m\u001b[0;34m.\u001b[0m\u001b[0m_matmul\u001b[0m\u001b[0;34m(\u001b[0m\u001b[0mb\u001b[0m\u001b[0;34m)\u001b[0m\u001b[0;34m\u001b[0m\u001b[0;34m\u001b[0m\u001b[0m\n\u001b[0;32m-> 3598\u001b[0;31m   \u001b[0;32mreturn\u001b[0m \u001b[0mmatmul\u001b[0m\u001b[0;34m(\u001b[0m\u001b[0ma\u001b[0m\u001b[0;34m,\u001b[0m \u001b[0mb\u001b[0m\u001b[0;34m,\u001b[0m \u001b[0mname\u001b[0m\u001b[0;34m=\u001b[0m\u001b[0mname\u001b[0m\u001b[0;34m)\u001b[0m\u001b[0;34m\u001b[0m\u001b[0;34m\u001b[0m\u001b[0m\n\u001b[0m\u001b[1;32m   3599\u001b[0m \u001b[0mmatmul_wrapper\u001b[0m\u001b[0;34m.\u001b[0m\u001b[0m__doc__\u001b[0m \u001b[0;34m=\u001b[0m \u001b[0mmatmul\u001b[0m\u001b[0;34m.\u001b[0m\u001b[0m__doc__\u001b[0m\u001b[0;34m\u001b[0m\u001b[0;34m\u001b[0m\u001b[0m\n\u001b[1;32m   3600\u001b[0m \u001b[0m_OverrideBinaryOperatorHelper\u001b[0m\u001b[0;34m(\u001b[0m\u001b[0mmatmul_wrapper\u001b[0m\u001b[0;34m,\u001b[0m \u001b[0;34m\"matmul\"\u001b[0m\u001b[0;34m)\u001b[0m\u001b[0;34m\u001b[0m\u001b[0;34m\u001b[0m\u001b[0m\n",
            "\u001b[0;32m/usr/local/lib/python3.7/dist-packages/tensorflow/python/util/dispatch.py\u001b[0m in \u001b[0;36mwrapper\u001b[0;34m(*args, **kwargs)\u001b[0m\n\u001b[1;32m    204\u001b[0m     \u001b[0;34m\"\"\"Call target, and fall back on dispatchers if there is a TypeError.\"\"\"\u001b[0m\u001b[0;34m\u001b[0m\u001b[0;34m\u001b[0m\u001b[0m\n\u001b[1;32m    205\u001b[0m     \u001b[0;32mtry\u001b[0m\u001b[0;34m:\u001b[0m\u001b[0;34m\u001b[0m\u001b[0;34m\u001b[0m\u001b[0m\n\u001b[0;32m--> 206\u001b[0;31m       \u001b[0;32mreturn\u001b[0m \u001b[0mtarget\u001b[0m\u001b[0;34m(\u001b[0m\u001b[0;34m*\u001b[0m\u001b[0margs\u001b[0m\u001b[0;34m,\u001b[0m \u001b[0;34m**\u001b[0m\u001b[0mkwargs\u001b[0m\u001b[0;34m)\u001b[0m\u001b[0;34m\u001b[0m\u001b[0;34m\u001b[0m\u001b[0m\n\u001b[0m\u001b[1;32m    207\u001b[0m     \u001b[0;32mexcept\u001b[0m \u001b[0;34m(\u001b[0m\u001b[0mTypeError\u001b[0m\u001b[0;34m,\u001b[0m \u001b[0mValueError\u001b[0m\u001b[0;34m)\u001b[0m\u001b[0;34m:\u001b[0m\u001b[0;34m\u001b[0m\u001b[0;34m\u001b[0m\u001b[0m\n\u001b[1;32m    208\u001b[0m       \u001b[0;31m# Note: convert_to_eager_tensor currently raises a ValueError, not a\u001b[0m\u001b[0;34m\u001b[0m\u001b[0;34m\u001b[0m\u001b[0;34m\u001b[0m\u001b[0m\n",
            "\u001b[0;32m/usr/local/lib/python3.7/dist-packages/tensorflow/python/ops/math_ops.py\u001b[0m in \u001b[0;36mmatmul\u001b[0;34m(a, b, transpose_a, transpose_b, adjoint_a, adjoint_b, a_is_sparse, b_is_sparse, name)\u001b[0m\n\u001b[1;32m   3488\u001b[0m     \u001b[0;32melse\u001b[0m\u001b[0;34m:\u001b[0m\u001b[0;34m\u001b[0m\u001b[0;34m\u001b[0m\u001b[0m\n\u001b[1;32m   3489\u001b[0m       return gen_math_ops.mat_mul(\n\u001b[0;32m-> 3490\u001b[0;31m           a, b, transpose_a=transpose_a, transpose_b=transpose_b, name=name)\n\u001b[0m\u001b[1;32m   3491\u001b[0m \u001b[0;34m\u001b[0m\u001b[0m\n\u001b[1;32m   3492\u001b[0m \u001b[0;34m\u001b[0m\u001b[0m\n",
            "\u001b[0;32m/usr/local/lib/python3.7/dist-packages/tensorflow/python/ops/gen_math_ops.py\u001b[0m in \u001b[0;36mmat_mul\u001b[0;34m(a, b, transpose_a, transpose_b, name)\u001b[0m\n\u001b[1;32m   5698\u001b[0m       \u001b[0;32mreturn\u001b[0m \u001b[0m_result\u001b[0m\u001b[0;34m\u001b[0m\u001b[0;34m\u001b[0m\u001b[0m\n\u001b[1;32m   5699\u001b[0m     \u001b[0;32mexcept\u001b[0m \u001b[0m_core\u001b[0m\u001b[0;34m.\u001b[0m\u001b[0m_NotOkStatusException\u001b[0m \u001b[0;32mas\u001b[0m \u001b[0me\u001b[0m\u001b[0;34m:\u001b[0m\u001b[0;34m\u001b[0m\u001b[0;34m\u001b[0m\u001b[0m\n\u001b[0;32m-> 5700\u001b[0;31m       \u001b[0m_ops\u001b[0m\u001b[0;34m.\u001b[0m\u001b[0mraise_from_not_ok_status\u001b[0m\u001b[0;34m(\u001b[0m\u001b[0me\u001b[0m\u001b[0;34m,\u001b[0m \u001b[0mname\u001b[0m\u001b[0;34m)\u001b[0m\u001b[0;34m\u001b[0m\u001b[0;34m\u001b[0m\u001b[0m\n\u001b[0m\u001b[1;32m   5701\u001b[0m     \u001b[0;32mexcept\u001b[0m \u001b[0m_core\u001b[0m\u001b[0;34m.\u001b[0m\u001b[0m_FallbackException\u001b[0m\u001b[0;34m:\u001b[0m\u001b[0;34m\u001b[0m\u001b[0;34m\u001b[0m\u001b[0m\n\u001b[1;32m   5702\u001b[0m       \u001b[0;32mpass\u001b[0m\u001b[0;34m\u001b[0m\u001b[0;34m\u001b[0m\u001b[0m\n",
            "\u001b[0;32m/usr/local/lib/python3.7/dist-packages/tensorflow/python/framework/ops.py\u001b[0m in \u001b[0;36mraise_from_not_ok_status\u001b[0;34m(e, name)\u001b[0m\n\u001b[1;32m   6895\u001b[0m   \u001b[0mmessage\u001b[0m \u001b[0;34m=\u001b[0m \u001b[0me\u001b[0m\u001b[0;34m.\u001b[0m\u001b[0mmessage\u001b[0m \u001b[0;34m+\u001b[0m \u001b[0;34m(\u001b[0m\u001b[0;34m\" name: \"\u001b[0m \u001b[0;34m+\u001b[0m \u001b[0mname\u001b[0m \u001b[0;32mif\u001b[0m \u001b[0mname\u001b[0m \u001b[0;32mis\u001b[0m \u001b[0;32mnot\u001b[0m \u001b[0;32mNone\u001b[0m \u001b[0;32melse\u001b[0m \u001b[0;34m\"\"\u001b[0m\u001b[0;34m)\u001b[0m\u001b[0;34m\u001b[0m\u001b[0;34m\u001b[0m\u001b[0m\n\u001b[1;32m   6896\u001b[0m   \u001b[0;31m# pylint: disable=protected-access\u001b[0m\u001b[0;34m\u001b[0m\u001b[0;34m\u001b[0m\u001b[0;34m\u001b[0m\u001b[0m\n\u001b[0;32m-> 6897\u001b[0;31m   \u001b[0msix\u001b[0m\u001b[0;34m.\u001b[0m\u001b[0mraise_from\u001b[0m\u001b[0;34m(\u001b[0m\u001b[0mcore\u001b[0m\u001b[0;34m.\u001b[0m\u001b[0m_status_to_exception\u001b[0m\u001b[0;34m(\u001b[0m\u001b[0me\u001b[0m\u001b[0;34m.\u001b[0m\u001b[0mcode\u001b[0m\u001b[0;34m,\u001b[0m \u001b[0mmessage\u001b[0m\u001b[0;34m)\u001b[0m\u001b[0;34m,\u001b[0m \u001b[0;32mNone\u001b[0m\u001b[0;34m)\u001b[0m\u001b[0;34m\u001b[0m\u001b[0;34m\u001b[0m\u001b[0m\n\u001b[0m\u001b[1;32m   6898\u001b[0m   \u001b[0;31m# pylint: enable=protected-access\u001b[0m\u001b[0;34m\u001b[0m\u001b[0;34m\u001b[0m\u001b[0;34m\u001b[0m\u001b[0m\n\u001b[1;32m   6899\u001b[0m \u001b[0;34m\u001b[0m\u001b[0m\n",
            "\u001b[0;32m/usr/local/lib/python3.7/dist-packages/six.py\u001b[0m in \u001b[0;36mraise_from\u001b[0;34m(value, from_value)\u001b[0m\n",
            "\u001b[0;31mInvalidArgumentError\u001b[0m: In[0] mismatch In[1] shape: 2 vs. 3: [3,2] [3,2] 0 0 [Op:MatMul]"
          ]
        }
      ]
    },
    {
      "cell_type": "code",
      "metadata": {
        "id": "gP8fzhG9zibl"
      },
      "source": [
        "reshaped_a2 = tf.reshape(a2,shape = (2,3))"
      ],
      "execution_count": null,
      "outputs": []
    },
    {
      "cell_type": "code",
      "metadata": {
        "id": "briv202_1o6x",
        "colab": {
          "base_uri": "https://localhost:8080/"
        },
        "outputId": "670d516c-8b26-4b34-d6dc-1bfbdd07e92b"
      },
      "source": [
        "a1 @ reshaped_a2"
      ],
      "execution_count": null,
      "outputs": [
        {
          "output_type": "execute_result",
          "data": {
            "text/plain": [
              "<tf.Tensor: shape=(3, 3), dtype=int32, numpy=\n",
              "array([[ 27,  30,  33],\n",
              "       [ 61,  68,  75],\n",
              "       [ 95, 106, 117]], dtype=int32)>"
            ]
          },
          "metadata": {
            "tags": []
          },
          "execution_count": 61
        }
      ]
    },
    {
      "cell_type": "code",
      "metadata": {
        "id": "XDZ17agr1q57",
        "colab": {
          "base_uri": "https://localhost:8080/"
        },
        "outputId": "f2e450c3-6158-4903-f7ec-784631cbe6ad"
      },
      "source": [
        "a1"
      ],
      "execution_count": null,
      "outputs": [
        {
          "output_type": "execute_result",
          "data": {
            "text/plain": [
              "<tf.Tensor: shape=(3, 2), dtype=int32, numpy=\n",
              "array([[1, 2],\n",
              "       [3, 4],\n",
              "       [5, 6]], dtype=int32)>"
            ]
          },
          "metadata": {
            "tags": []
          },
          "execution_count": 62
        }
      ]
    },
    {
      "cell_type": "code",
      "metadata": {
        "id": "fMxKaznR6ESY",
        "colab": {
          "base_uri": "https://localhost:8080/"
        },
        "outputId": "bf574291-9503-4202-dbca-5a87175b00d3"
      },
      "source": [
        "a2"
      ],
      "execution_count": null,
      "outputs": [
        {
          "output_type": "execute_result",
          "data": {
            "text/plain": [
              "<tf.Tensor: shape=(3, 2), dtype=int32, numpy=\n",
              "array([[ 7,  8],\n",
              "       [ 9, 10],\n",
              "       [11, 12]], dtype=int32)>"
            ]
          },
          "metadata": {
            "tags": []
          },
          "execution_count": 63
        }
      ]
    },
    {
      "cell_type": "code",
      "metadata": {
        "id": "BC1d4G7t6FCR"
      },
      "source": [
        "transposed_a2 = tf.transpose(a2)"
      ],
      "execution_count": null,
      "outputs": []
    },
    {
      "cell_type": "code",
      "metadata": {
        "id": "8zV6o01O6JGs",
        "colab": {
          "base_uri": "https://localhost:8080/"
        },
        "outputId": "75b7c203-3a47-4a64-b79b-806977125337"
      },
      "source": [
        "transposed_a2"
      ],
      "execution_count": null,
      "outputs": [
        {
          "output_type": "execute_result",
          "data": {
            "text/plain": [
              "<tf.Tensor: shape=(2, 3), dtype=int32, numpy=\n",
              "array([[ 7,  9, 11],\n",
              "       [ 8, 10, 12]], dtype=int32)>"
            ]
          },
          "metadata": {
            "tags": []
          },
          "execution_count": 65
        }
      ]
    },
    {
      "cell_type": "markdown",
      "metadata": {
        "id": "XQF0llt_6K2E"
      },
      "source": [
        "# Always prefer to use transpose rather than reshape"
      ]
    },
    {
      "cell_type": "markdown",
      "metadata": {
        "id": "8lM3bUL16imb"
      },
      "source": [
        "# The Dot Product\n",
        "* tf.matmul()\n",
        "* tf.tensordot( )"
      ]
    },
    {
      "cell_type": "code",
      "metadata": {
        "id": "RxN2Uy-17G14"
      },
      "source": [
        "# perform the operation on x and y(Here any one of that should be transposed)\n",
        "x = tf.constant([[1,2],\n",
        "                 [8,7],\n",
        "                 [3,1]])\n",
        "y = tf.constant([[2,3],\n",
        "                 [5,6],\n",
        "                 [9,8]])"
      ],
      "execution_count": null,
      "outputs": []
    },
    {
      "cell_type": "code",
      "metadata": {
        "id": "7QJ8D-Wx9Ku3",
        "colab": {
          "base_uri": "https://localhost:8080/"
        },
        "outputId": "7c2adc33-8ab4-441e-8835-94b7d531d59f"
      },
      "source": [
        "tf.tensordot(tf.transpose(x),y,axes = 1)"
      ],
      "execution_count": null,
      "outputs": [
        {
          "output_type": "execute_result",
          "data": {
            "text/plain": [
              "<tf.Tensor: shape=(2, 2), dtype=int32, numpy=\n",
              "array([[69, 75],\n",
              "       [48, 56]], dtype=int32)>"
            ]
          },
          "metadata": {
            "tags": []
          },
          "execution_count": 67
        }
      ]
    },
    {
      "cell_type": "markdown",
      "metadata": {
        "id": "IYBHRTXK9Rbs"
      },
      "source": [
        "## Changing the datatype of the tensor"
      ]
    },
    {
      "cell_type": "code",
      "metadata": {
        "id": "WmpOgIv7AIW3"
      },
      "source": [
        "# Let's create a tensor with default datatype(float32)\n",
        "B = tf.constant([1.2,1.4])"
      ],
      "execution_count": null,
      "outputs": []
    },
    {
      "cell_type": "code",
      "metadata": {
        "id": "9aeU1h9zA6Gl",
        "colab": {
          "base_uri": "https://localhost:8080/"
        },
        "outputId": "79b51d42-fc8d-40b7-cf48-061e318d5a69"
      },
      "source": [
        "B.dtype"
      ],
      "execution_count": null,
      "outputs": [
        {
          "output_type": "execute_result",
          "data": {
            "text/plain": [
              "tf.float32"
            ]
          },
          "metadata": {
            "tags": []
          },
          "execution_count": 69
        }
      ]
    },
    {
      "cell_type": "code",
      "metadata": {
        "id": "XSNJ8ef0A63L"
      },
      "source": [
        "\n",
        "C = tf.constant([1,2,3])"
      ],
      "execution_count": null,
      "outputs": []
    },
    {
      "cell_type": "code",
      "metadata": {
        "id": "6drzGGgGA_ni",
        "colab": {
          "base_uri": "https://localhost:8080/"
        },
        "outputId": "e7a753ec-d922-4aa7-d890-2c0a16b95bab"
      },
      "source": [
        "C.dtype"
      ],
      "execution_count": null,
      "outputs": [
        {
          "output_type": "execute_result",
          "data": {
            "text/plain": [
              "tf.int32"
            ]
          },
          "metadata": {
            "tags": []
          },
          "execution_count": 71
        }
      ]
    },
    {
      "cell_type": "code",
      "metadata": {
        "id": "Ye0RpG5xBAY-",
        "colab": {
          "base_uri": "https://localhost:8080/"
        },
        "outputId": "e45deb2a-0752-4e4b-ea3b-9dfdec894c85"
      },
      "source": [
        "# Change from float32 to float16\n",
        "D = tf.cast(B,dtype = tf.float16)\n",
        "D, D.dtype"
      ],
      "execution_count": null,
      "outputs": [
        {
          "output_type": "execute_result",
          "data": {
            "text/plain": [
              "(<tf.Tensor: shape=(2,), dtype=float16, numpy=array([1.2, 1.4], dtype=float16)>,\n",
              " tf.float16)"
            ]
          },
          "metadata": {
            "tags": []
          },
          "execution_count": 72
        }
      ]
    },
    {
      "cell_type": "code",
      "metadata": {
        "id": "c4cvxqgbB9cT",
        "colab": {
          "base_uri": "https://localhost:8080/"
        },
        "outputId": "dfe9f045-47fd-4e1b-b1a7-c2b08c68596c"
      },
      "source": [
        "# Change from int32 to float32\n",
        "E = tf.cast(C,dtype = tf.float32)\n",
        "E"
      ],
      "execution_count": null,
      "outputs": [
        {
          "output_type": "execute_result",
          "data": {
            "text/plain": [
              "<tf.Tensor: shape=(3,), dtype=float32, numpy=array([1., 2., 3.], dtype=float32)>"
            ]
          },
          "metadata": {
            "tags": []
          },
          "execution_count": 73
        }
      ]
    },
    {
      "cell_type": "markdown",
      "metadata": {
        "id": "nlU0yYBcChgC"
      },
      "source": [
        "## Aggregating Tensors\n",
        "* Aggregation = Condensing them from multiple values to smaller amount of values"
      ]
    },
    {
      "cell_type": "code",
      "metadata": {
        "id": "AfFUHJWWnL_J"
      },
      "source": [
        "tens1 = tf.constant([-9,-8])\n",
        "tens1"
      ],
      "execution_count": null,
      "outputs": []
    },
    {
      "cell_type": "code",
      "metadata": {
        "id": "VIwmqcfVniW3"
      },
      "source": [
        "# To get the absolute value use abs method\n",
        "tf.abs(tens1)"
      ],
      "execution_count": null,
      "outputs": []
    },
    {
      "cell_type": "markdown",
      "metadata": {
        "id": "gR74Bxg2nwQ5"
      },
      "source": [
        "## Aggregation operations\n",
        "* Minimum\n",
        "* Maximum\n",
        "* Mean\n",
        "* Sum"
      ]
    },
    {
      "cell_type": "code",
      "metadata": {
        "id": "p752s5SUoKzc"
      },
      "source": [
        "# Create a random tensor with values between 0 - 100 \n",
        "rand_ten = tf.constant(np.random.randint(0,100,size = 50))\n",
        "rand_ten"
      ],
      "execution_count": null,
      "outputs": []
    },
    {
      "cell_type": "code",
      "metadata": {
        "id": "DWich0lPodil"
      },
      "source": [
        "# Find the minimum\n",
        "tf.reduce_min(rand_ten)"
      ],
      "execution_count": null,
      "outputs": []
    },
    {
      "cell_type": "code",
      "metadata": {
        "id": "ypBwTBwzo9E1"
      },
      "source": [
        "# Find the maximum\n",
        "tf.reduce_max(rand_ten)"
      ],
      "execution_count": null,
      "outputs": []
    },
    {
      "cell_type": "code",
      "metadata": {
        "id": "5NwoM1i1pD58"
      },
      "source": [
        "# Find the mean\n",
        "tf.reduce_mean(rand_ten)"
      ],
      "execution_count": null,
      "outputs": []
    },
    {
      "cell_type": "code",
      "metadata": {
        "id": "c9kPsGn1pKcK"
      },
      "source": [
        "# Find the sum\n",
        "tf.reduce_sum(rand_ten)"
      ],
      "execution_count": null,
      "outputs": []
    },
    {
      "cell_type": "code",
      "metadata": {
        "id": "EdOW0LynpPJf"
      },
      "source": [
        "# find the std deviation\n",
        "tf.math.reduce_std(rand_ten,axis = 0)"
      ],
      "execution_count": null,
      "outputs": []
    },
    {
      "cell_type": "markdown",
      "metadata": {
        "id": "GKllftjrplyZ"
      },
      "source": [
        "# For Variance and Standard deviation we can't able to find like the previous one so let's move onto tensorflow probability"
      ]
    },
    {
      "cell_type": "code",
      "metadata": {
        "id": "Kc2SvtyaqsDn"
      },
      "source": [
        "import tensorflow_probability as tfp"
      ],
      "execution_count": null,
      "outputs": []
    },
    {
      "cell_type": "code",
      "metadata": {
        "id": "cs22sB5wq0QS"
      },
      "source": [
        "tfp.stats.stddev(tf.cast(rand_ten,dtype = tf.float32))"
      ],
      "execution_count": null,
      "outputs": []
    },
    {
      "cell_type": "code",
      "metadata": {
        "id": "cXgQF7qarUbI"
      },
      "source": [
        "tfp.stats.variance(rand_ten)"
      ],
      "execution_count": null,
      "outputs": []
    },
    {
      "cell_type": "markdown",
      "metadata": {
        "id": "vtcTx8mxrm-6"
      },
      "source": [
        "## Find the positonal maximum and minimum"
      ]
    },
    {
      "cell_type": "code",
      "metadata": {
        "id": "BxxgTgMYLxYZ"
      },
      "source": [
        "# Create a new tensor for finding positional min and max\n",
        "tf.random.set_seed(2)\n",
        "F = tf.random.uniform(shape= [50])\n",
        "F"
      ],
      "execution_count": null,
      "outputs": []
    },
    {
      "cell_type": "code",
      "metadata": {
        "id": "JaiYa7J_McOW"
      },
      "source": [
        "# Find the postional maximum\n",
        "## Here the positional maximum just gives the position which is index\n",
        "tf.argmax(F)"
      ],
      "execution_count": null,
      "outputs": []
    },
    {
      "cell_type": "code",
      "metadata": {
        "id": "ntcuhi3TNPVu"
      },
      "source": [
        "# Index of the positional maximum\n",
        "F[tf.argmax(F)]"
      ],
      "execution_count": null,
      "outputs": []
    },
    {
      "cell_type": "code",
      "metadata": {
        "id": "DurJsJ6UNY21"
      },
      "source": [
        "# Find the max val of F\n",
        "tf.reduce_max(F)"
      ],
      "execution_count": null,
      "outputs": []
    },
    {
      "cell_type": "code",
      "metadata": {
        "id": "FS1yGzNzN0ZB"
      },
      "source": [
        "F[tf.argmax(F)] == tf.reduce_max(F)"
      ],
      "execution_count": null,
      "outputs": []
    },
    {
      "cell_type": "code",
      "metadata": {
        "id": "DKno-kRdOG7v"
      },
      "source": [
        "# Find the positional minimum (Index)\n",
        "tf.argmin(F)"
      ],
      "execution_count": null,
      "outputs": []
    },
    {
      "cell_type": "code",
      "metadata": {
        "id": "35y1YJb1O2wF"
      },
      "source": [
        "# Find the value of the index \n",
        "F[tf.argmin(F)]"
      ],
      "execution_count": null,
      "outputs": []
    },
    {
      "cell_type": "markdown",
      "metadata": {
        "id": "sfzLUo6NO7G7"
      },
      "source": [
        "## Squeezing a tensor(Removing one dimension)"
      ]
    },
    {
      "cell_type": "code",
      "metadata": {
        "colab": {
          "base_uri": "https://localhost:8080/"
        },
        "id": "2KjmLLDQhuas",
        "outputId": "33b60c45-20b8-41ea-a415-7030fd4ec228"
      },
      "source": [
        "tf.random.set_seed(2)\n",
        "tens2 = tf.constant(tf.random.uniform(shape=(1,1,1,50)))\n",
        "tens2"
      ],
      "execution_count": null,
      "outputs": [
        {
          "output_type": "execute_result",
          "data": {
            "text/plain": [
              "<tf.Tensor: shape=(1, 1, 1, 50), dtype=float32, numpy=\n",
              "array([[[[0.14690244, 0.46425676, 0.22489977, 0.35288846, 0.9857408 ,\n",
              "          0.99910235, 0.5648881 , 0.16375077, 0.9890269 , 0.681414  ,\n",
              "          0.9361813 , 0.76035094, 0.8557707 , 0.42701852, 0.3893944 ,\n",
              "          0.69739926, 0.6512991 , 0.08290601, 0.3726778 , 0.06093955,\n",
              "          0.96939087, 0.09901857, 0.40164733, 0.1655829 , 0.8469081 ,\n",
              "          0.64433956, 0.90287995, 0.7110901 , 0.6869948 , 0.6519774 ,\n",
              "          0.09213817, 0.8334286 , 0.440794  , 0.67382956, 0.29321003,\n",
              "          0.7938975 , 0.69646835, 0.3866577 , 0.79191923, 0.23676014,\n",
              "          0.9113256 , 0.73570395, 0.40668976, 0.9452349 , 0.10045171,\n",
              "          0.9370924 , 0.86061335, 0.37275386, 0.8774456 , 0.8208276 ]]]],\n",
              "      dtype=float32)>"
            ]
          },
          "metadata": {
            "tags": []
          },
          "execution_count": 16
        }
      ]
    },
    {
      "cell_type": "code",
      "metadata": {
        "colab": {
          "base_uri": "https://localhost:8080/"
        },
        "id": "Kp-hM0yzh9MV",
        "outputId": "4393a2b9-46d5-40a5-859c-a1f071cc1196"
      },
      "source": [
        "# Squeezing the tensor\n",
        "squeezed_tensor = tf.squeeze(tens2)\n",
        "squeezed_tensor"
      ],
      "execution_count": null,
      "outputs": [
        {
          "output_type": "execute_result",
          "data": {
            "text/plain": [
              "<tf.Tensor: shape=(50,), dtype=float32, numpy=\n",
              "array([0.14690244, 0.46425676, 0.22489977, 0.35288846, 0.9857408 ,\n",
              "       0.99910235, 0.5648881 , 0.16375077, 0.9890269 , 0.681414  ,\n",
              "       0.9361813 , 0.76035094, 0.8557707 , 0.42701852, 0.3893944 ,\n",
              "       0.69739926, 0.6512991 , 0.08290601, 0.3726778 , 0.06093955,\n",
              "       0.96939087, 0.09901857, 0.40164733, 0.1655829 , 0.8469081 ,\n",
              "       0.64433956, 0.90287995, 0.7110901 , 0.6869948 , 0.6519774 ,\n",
              "       0.09213817, 0.8334286 , 0.440794  , 0.67382956, 0.29321003,\n",
              "       0.7938975 , 0.69646835, 0.3866577 , 0.79191923, 0.23676014,\n",
              "       0.9113256 , 0.73570395, 0.40668976, 0.9452349 , 0.10045171,\n",
              "       0.9370924 , 0.86061335, 0.37275386, 0.8774456 , 0.8208276 ],\n",
              "      dtype=float32)>"
            ]
          },
          "metadata": {
            "tags": []
          },
          "execution_count": 17
        }
      ]
    },
    {
      "cell_type": "markdown",
      "metadata": {
        "id": "D1bvRg6ViVXW"
      },
      "source": [
        "# One hot encoding tensors"
      ]
    },
    {
      "cell_type": "code",
      "metadata": {
        "colab": {
          "base_uri": "https://localhost:8080/"
        },
        "id": "YOOgLygpjtF9",
        "outputId": "9ff35592-cb8e-4255-a3b8-1806a0341522"
      },
      "source": [
        "some_list = [0,1,2,3] \n",
        "# Could be anything for ex let's assume 0-red,1-green,2-blue,3-yellow\n",
        "\n",
        "# while doing one_hot we'll always need to define the depth\n",
        "depth = 4\n",
        "tf.one_hot(some_list,depth) "
      ],
      "execution_count": null,
      "outputs": [
        {
          "output_type": "execute_result",
          "data": {
            "text/plain": [
              "<tf.Tensor: shape=(4, 4), dtype=float32, numpy=\n",
              "array([[1., 0., 0., 0.],\n",
              "       [0., 1., 0., 0.],\n",
              "       [0., 0., 1., 0.],\n",
              "       [0., 0., 0., 1.]], dtype=float32)>"
            ]
          },
          "metadata": {
            "tags": []
          },
          "execution_count": 20
        }
      ]
    },
    {
      "cell_type": "code",
      "metadata": {
        "colab": {
          "base_uri": "https://localhost:8080/"
        },
        "id": "M6e0CSkwkQ82",
        "outputId": "024b2443-c49f-4051-b844-5d1b46497e6a"
      },
      "source": [
        "# Specify custom values for one hot encoding \"True\",\"False\" for on_values,off_values\n",
        "tf.one_hot(some_list,depth,on_value = \"True\",off_value = \"False\")"
      ],
      "execution_count": null,
      "outputs": [
        {
          "output_type": "execute_result",
          "data": {
            "text/plain": [
              "<tf.Tensor: shape=(4, 4), dtype=string, numpy=\n",
              "array([[b'True', b'False', b'False', b'False'],\n",
              "       [b'False', b'True', b'False', b'False'],\n",
              "       [b'False', b'False', b'True', b'False'],\n",
              "       [b'False', b'False', b'False', b'True']], dtype=object)>"
            ]
          },
          "metadata": {
            "tags": []
          },
          "execution_count": 21
        }
      ]
    },
    {
      "cell_type": "markdown",
      "metadata": {
        "id": "I3V7WQNak0pB"
      },
      "source": [
        "## Squaring,log,Square root "
      ]
    },
    {
      "cell_type": "code",
      "metadata": {
        "colab": {
          "base_uri": "https://localhost:8080/"
        },
        "id": "vRdQlCkmmxXe",
        "outputId": "c8b1d3b5-5d31-4fe8-ba77-9fc0c8ad4423"
      },
      "source": [
        "# Creating a tensor in a new way\n",
        "H = tf.range(1,10)\n",
        "H"
      ],
      "execution_count": null,
      "outputs": [
        {
          "output_type": "execute_result",
          "data": {
            "text/plain": [
              "<tf.Tensor: shape=(9,), dtype=int32, numpy=array([1, 2, 3, 4, 5, 6, 7, 8, 9], dtype=int32)>"
            ]
          },
          "metadata": {
            "tags": []
          },
          "execution_count": 22
        }
      ]
    },
    {
      "cell_type": "code",
      "metadata": {
        "colab": {
          "base_uri": "https://localhost:8080/"
        },
        "id": "BSkKRJKhnBYZ",
        "outputId": "c425a334-26d4-4f55-ad87-fdcbc7a390c7"
      },
      "source": [
        "# Squaring the tensor\n",
        "tf.square(H)"
      ],
      "execution_count": null,
      "outputs": [
        {
          "output_type": "execute_result",
          "data": {
            "text/plain": [
              "<tf.Tensor: shape=(9,), dtype=int32, numpy=array([ 1,  4,  9, 16, 25, 36, 49, 64, 81], dtype=int32)>"
            ]
          },
          "metadata": {
            "tags": []
          },
          "execution_count": 23
        }
      ]
    },
    {
      "cell_type": "code",
      "metadata": {
        "colab": {
          "base_uri": "https://localhost:8080/"
        },
        "id": "U96p6VmcnE1s",
        "outputId": "d1ee39e0-0ec4-48e3-89b7-29ac1dfefd55"
      },
      "source": [
        "# Taking log\n",
        "tf.math.log(tf.cast(H,dtype = tf.float32))"
      ],
      "execution_count": null,
      "outputs": [
        {
          "output_type": "execute_result",
          "data": {
            "text/plain": [
              "<tf.Tensor: shape=(9,), dtype=float32, numpy=\n",
              "array([0.       , 0.6931472, 1.0986123, 1.3862944, 1.609438 , 1.7917595,\n",
              "       1.9459102, 2.0794415, 2.1972246], dtype=float32)>"
            ]
          },
          "metadata": {
            "tags": []
          },
          "execution_count": 27
        }
      ]
    },
    {
      "cell_type": "code",
      "metadata": {
        "colab": {
          "base_uri": "https://localhost:8080/"
        },
        "id": "aiZ7nEUnnItU",
        "outputId": "d1392282-448b-4239-ee8a-2ba23ef201ff"
      },
      "source": [
        "# Find the squareroot\n",
        "tf.sqrt(tf.cast(H,dtype = tf.float32))"
      ],
      "execution_count": null,
      "outputs": [
        {
          "output_type": "execute_result",
          "data": {
            "text/plain": [
              "<tf.Tensor: shape=(9,), dtype=float32, numpy=\n",
              "array([0.99999994, 1.4142134 , 1.7320508 , 1.9999999 , 2.236068  ,\n",
              "       2.4494896 , 2.6457512 , 2.8284268 , 3.        ], dtype=float32)>"
            ]
          },
          "metadata": {
            "tags": []
          },
          "execution_count": 25
        }
      ]
    },
    {
      "cell_type": "markdown",
      "metadata": {
        "id": "WjM58NH7nl8P"
      },
      "source": [
        "## Tensors and NumPy"
      ]
    },
    {
      "cell_type": "code",
      "metadata": {
        "colab": {
          "base_uri": "https://localhost:8080/"
        },
        "id": "Pf2E79Dg4CTK",
        "outputId": "ebb609dc-5a69-40b9-f446-d344a1965130"
      },
      "source": [
        "# Create a tensor using Numpy\n",
        "J = tf.constant(np.array([3,2,1,10]))\n",
        "J"
      ],
      "execution_count": null,
      "outputs": [
        {
          "output_type": "execute_result",
          "data": {
            "text/plain": [
              "<tf.Tensor: shape=(4,), dtype=int64, numpy=array([ 3,  2,  1, 10])>"
            ]
          },
          "metadata": {
            "tags": []
          },
          "execution_count": 2
        }
      ]
    },
    {
      "cell_type": "code",
      "metadata": {
        "colab": {
          "base_uri": "https://localhost:8080/"
        },
        "id": "13xKwb7K4zQs",
        "outputId": "7ac2c26d-9b70-44ef-fb52-036924f57a18"
      },
      "source": [
        "# Convert our tensor back to numpy array\n",
        "np.array(J), type(np.array(J))"
      ],
      "execution_count": null,
      "outputs": [
        {
          "output_type": "execute_result",
          "data": {
            "text/plain": [
              "(array([ 3,  2,  1, 10]), numpy.ndarray)"
            ]
          },
          "metadata": {
            "tags": []
          },
          "execution_count": 3
        }
      ]
    },
    {
      "cell_type": "code",
      "metadata": {
        "colab": {
          "base_uri": "https://localhost:8080/"
        },
        "id": "FiYnkf2n490j",
        "outputId": "6254ef83-3156-4566-c2d2-9d671ee341b8"
      },
      "source": [
        "# The default types of each are slightly different\n",
        "numpy_J = tf.constant(np.array([1,2,3]))\n",
        "tensor_J = tf.constant([1,2,3])\n",
        "numpy_J.dtype, tensor_J.dtype"
      ],
      "execution_count": null,
      "outputs": [
        {
          "output_type": "execute_result",
          "data": {
            "text/plain": [
              "(tf.int64, tf.int32)"
            ]
          },
          "metadata": {
            "tags": []
          },
          "execution_count": 4
        }
      ]
    },
    {
      "cell_type": "markdown",
      "metadata": {
        "id": "ceEYWAC05t_H"
      },
      "source": [
        "## Finding access to GPU"
      ]
    },
    {
      "cell_type": "code",
      "metadata": {
        "id": "IhH2znoK63WA",
        "colab": {
          "base_uri": "https://localhost:8080/"
        },
        "outputId": "31661c14-e4a6-43ec-c06b-82e66165fac6"
      },
      "source": [
        "tf.config.list_physical_devices()"
      ],
      "execution_count": null,
      "outputs": [
        {
          "output_type": "execute_result",
          "data": {
            "text/plain": [
              "[PhysicalDevice(name='/physical_device:CPU:0', device_type='CPU')]"
            ]
          },
          "metadata": {
            "tags": []
          },
          "execution_count": 5
        }
      ]
    },
    {
      "cell_type": "code",
      "metadata": {
        "id": "Tu8R-T9N65vE"
      },
      "source": [
        ""
      ],
      "execution_count": null,
      "outputs": []
    }
  ]
}